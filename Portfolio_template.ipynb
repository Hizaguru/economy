{
 "cells": [
  {
   "cell_type": "code",
   "execution_count": 3,
   "metadata": {},
   "outputs": [],
   "source": [
    "import yfinance as yf\n",
    "import pandas as pd\n",
    "from currency_converter import CurrencyConverter\n",
    "from functions import get_data"
   ]
  },
  {
   "cell_type": "code",
   "execution_count": 4,
   "metadata": {},
   "outputs": [],
   "source": [
    "#Add the tickers of your portfolio\n",
    "tickers = [\"REMEDY.HE\"] \n",
    "fileName = tickers\n",
    "c = CurrencyConverter()\n",
    "ROUND_TO_BILLIONS = 0.000001"
   ]
  },
  {
   "cell_type": "code",
   "execution_count": 5,
   "metadata": {},
   "outputs": [],
   "source": [
    "# Create an empty DataFrame to store the information for all tickers\n",
    "df = pd.DataFrame()"
   ]
  },
  {
   "cell_type": "code",
   "execution_count": 6,
   "metadata": {},
   "outputs": [
    {
     "name": "stderr",
     "output_type": "stream",
     "text": [
      "/home/jukka/miniconda3/envs/finance/lib/python3.11/site-packages/yahoo_fin/stock_info.py:295: FutureWarning: The frame.append method is deprecated and will be removed from pandas in a future version. Use pandas.concat instead.\n",
      "  data = tables[0].append(tables[1])\n",
      "/home/jukka/miniconda3/envs/finance/lib/python3.11/site-packages/yahoo_fin/stock_info.py:302: FutureWarning: The frame.append method is deprecated and will be removed from pandas in a future version. Use pandas.concat instead.\n",
      "  data = data.append(quote_price)\n"
     ]
    },
    {
     "name": "stdout",
     "output_type": "stream",
     "text": [
      "{'current_price': 24.299999237060547, 'eps': -0.13, 'growth_rate': '', 'current_yield': 4.67, 'ng_pe': 17.93, 'multiplier': 2.57, 'margin': 0.65}\n"
     ]
    }
   ],
   "source": [
    "# Loop through each ticker and retrieve the information\n",
    "for symbol in tickers:\n",
    "    stock = yf.Ticker(ticker=symbol)\n",
    "    stock_info = stock.get_info()\n",
    "    print(get_data(symbol, 17.93, 2.57, 0.65))\n",
    "    #Get the  stock's trailingPE for the \n",
    "    trailing_pe = stock_info.get('trailingPE')\n",
    "    # Filter out unwanted values from the dictionary and append to the DataFrame\n",
    "    wanted_values = ['website', 'longName', 'industry', 'sector', 'fullTimeEmployees', 'auditRisk', 'boardRisk', 'previousClose', 'open', 'dayLow', 'dayHigh', 'dividendRate', 'dividendYield', 'payoutRatio', 'trailingPE', 'forwardPE', 'marketCap', 'priceToSalesTrailing12Months', 'enterpriseValue', 'profitMargins', 'priceToBook', 'trailingEps', 'freeCashflow']\n",
    "    #Array for rounded values\n",
    "    rounded_values = ['marketCap', 'enterpriseValue', 'freeCashflow']\n",
    "    #converted values\n",
    "    convert_to_euros = ['previousClose', 'marketCap', 'open', 'dayLow', 'dayHigh', 'dividendRate', 'freeCashflow'] \n",
    "    \n",
    "    d = {}\n",
    "    for k, v in stock_info.items():\n",
    "        if k in wanted_values:\n",
    "            if k in rounded_values:\n",
    "                v *= ROUND_TO_BILLIONS\n",
    "            elif k in convert_to_euros and stock_info.get('currency') == 'SEK':\n",
    "                v = round(c.convert(v, 'SEK', 'EUR'),1) * ROUND_TO_BILLIONS\n",
    "            elif k == 'enterpriseValue':\n",
    "                v*= ROUND_TO_BILLIONS\n",
    "            d[k] = [v] \n",
    "    df_temp = pd.DataFrame.from_dict(data=d, orient='columns')\n",
    "    df_temp['symbol'] = symbol  # Add a column for the ticker symbol\n",
    "    df = pd.concat([df, df_temp], ignore_index=True) "
   ]
  },
  {
   "attachments": {},
   "cell_type": "markdown",
   "metadata": {},
   "source": []
  },
  {
   "cell_type": "code",
   "execution_count": 9,
   "metadata": {},
   "outputs": [
    {
     "data": {
      "text/html": [
       "<style type=\"text/css\">\n",
       "#T_70081 th {\n",
       "  background-color: red;\n",
       "  color: white;\n",
       "  font-weight: bold;\n",
       "  text-align: center;\n",
       "}\n",
       "#T_70081 tr:nth-child(odd) {\n",
       "  background-color: pink;\n",
       "  text-align: center;\n",
       "  font-weight: bold;\n",
       "}\n",
       "#T_70081 tr:nth-child(even) {\n",
       "  background-color: white;\n",
       "  color: black;\n",
       "  text-align: center;\n",
       "  font-weight: bold;\n",
       "}\n",
       "</style>\n",
       "<table id=\"T_70081\">\n",
       "  <thead>\n",
       "    <tr>\n",
       "      <th class=\"blank level0\" >&nbsp;</th>\n",
       "      <th id=\"T_70081_level0_col0\" class=\"col_heading level0 col0\" >website</th>\n",
       "      <th id=\"T_70081_level0_col1\" class=\"col_heading level0 col1\" >industry</th>\n",
       "      <th id=\"T_70081_level0_col2\" class=\"col_heading level0 col2\" >sector</th>\n",
       "      <th id=\"T_70081_level0_col3\" class=\"col_heading level0 col3\" >fullTimeEmployees</th>\n",
       "      <th id=\"T_70081_level0_col4\" class=\"col_heading level0 col4\" >previousClose</th>\n",
       "      <th id=\"T_70081_level0_col5\" class=\"col_heading level0 col5\" >open</th>\n",
       "      <th id=\"T_70081_level0_col6\" class=\"col_heading level0 col6\" >dayLow</th>\n",
       "      <th id=\"T_70081_level0_col7\" class=\"col_heading level0 col7\" >dayHigh</th>\n",
       "      <th id=\"T_70081_level0_col8\" class=\"col_heading level0 col8\" >dividendRate</th>\n",
       "      <th id=\"T_70081_level0_col9\" class=\"col_heading level0 col9\" >dividendYield</th>\n",
       "      <th id=\"T_70081_level0_col10\" class=\"col_heading level0 col10\" >forwardPE</th>\n",
       "      <th id=\"T_70081_level0_col11\" class=\"col_heading level0 col11\" >marketCap</th>\n",
       "      <th id=\"T_70081_level0_col12\" class=\"col_heading level0 col12\" >priceToSalesTrailing12Months</th>\n",
       "      <th id=\"T_70081_level0_col13\" class=\"col_heading level0 col13\" >enterpriseValue</th>\n",
       "      <th id=\"T_70081_level0_col14\" class=\"col_heading level0 col14\" >profitMargins</th>\n",
       "      <th id=\"T_70081_level0_col15\" class=\"col_heading level0 col15\" >priceToBook</th>\n",
       "      <th id=\"T_70081_level0_col16\" class=\"col_heading level0 col16\" >trailingEps</th>\n",
       "      <th id=\"T_70081_level0_col17\" class=\"col_heading level0 col17\" >longName</th>\n",
       "      <th id=\"T_70081_level0_col18\" class=\"col_heading level0 col18\" >freeCashflow</th>\n",
       "      <th id=\"T_70081_level0_col19\" class=\"col_heading level0 col19\" >symbol</th>\n",
       "    </tr>\n",
       "  </thead>\n",
       "  <tbody>\n",
       "    <tr>\n",
       "      <th id=\"T_70081_level0_row0\" class=\"row_heading level0 row0\" >0</th>\n",
       "      <td id=\"T_70081_row0_col0\" class=\"data row0 col0\" >https://www.remedygames.com</td>\n",
       "      <td id=\"T_70081_row0_col1\" class=\"data row0 col1\" >Electronic Gaming & Multimedia</td>\n",
       "      <td id=\"T_70081_row0_col2\" class=\"data row0 col2\" >Communication Services</td>\n",
       "      <td id=\"T_70081_row0_col3\" class=\"data row0 col3\" >334</td>\n",
       "      <td id=\"T_70081_row0_col4\" class=\"data row0 col4\" >24.250000</td>\n",
       "      <td id=\"T_70081_row0_col5\" class=\"data row0 col5\" >24.400000</td>\n",
       "      <td id=\"T_70081_row0_col6\" class=\"data row0 col6\" >24.200000</td>\n",
       "      <td id=\"T_70081_row0_col7\" class=\"data row0 col7\" >24.500000</td>\n",
       "      <td id=\"T_70081_row0_col8\" class=\"data row0 col8\" >0.100000</td>\n",
       "      <td id=\"T_70081_row0_col9\" class=\"data row0 col9\" >0.004100</td>\n",
       "      <td id=\"T_70081_row0_col10\" class=\"data row0 col10\" >303.750000</td>\n",
       "      <td id=\"T_70081_row0_col11\" class=\"data row0 col11\" >327.323424</td>\n",
       "      <td id=\"T_70081_row0_col12\" class=\"data row0 col12\" >7.509485</td>\n",
       "      <td id=\"T_70081_row0_col13\" class=\"data row0 col13\" >276.268544</td>\n",
       "      <td id=\"T_70081_row0_col14\" class=\"data row0 col14\" >-0.039600</td>\n",
       "      <td id=\"T_70081_row0_col15\" class=\"data row0 col15\" >3.698630</td>\n",
       "      <td id=\"T_70081_row0_col16\" class=\"data row0 col16\" >-0.130000</td>\n",
       "      <td id=\"T_70081_row0_col17\" class=\"data row0 col17\" >Remedy Entertainment Oyj</td>\n",
       "      <td id=\"T_70081_row0_col18\" class=\"data row0 col18\" >0.510125</td>\n",
       "      <td id=\"T_70081_row0_col19\" class=\"data row0 col19\" >REMEDY.HE</td>\n",
       "    </tr>\n",
       "  </tbody>\n",
       "</table>\n"
      ],
      "text/plain": [
       "<pandas.io.formats.style.Styler at 0x7f2376cb89d0>"
      ]
     },
     "execution_count": 9,
     "metadata": {},
     "output_type": "execute_result"
    }
   ],
   "source": [
    "# Colorize the columns\n",
    "styles = [\n",
    "    {'selector': 'th', 'props': [('background-color', 'red'), ('color', 'white'), ('font-weight', 'bold'), ('text-align', 'center')]},\n",
    "    {'selector': 'tr:nth-child(odd)', 'props': [('background-color', 'pink'), ('text-align', 'center'), ('font-weight', 'bold')]},\n",
    "    {'selector': 'tr:nth-child(even)', 'props': [('background-color', 'white'), ('color', 'black'), ('text-align', 'center'), ('font-weight', 'bold')]},\n",
    "]\n",
    "df_styled = df.style.set_table_styles(styles)\n",
    "\n",
    "# Display the styled DataFrame\n",
    "df_styled"
   ]
  },
  {
   "cell_type": "code",
   "execution_count": 10,
   "metadata": {},
   "outputs": [],
   "source": [
    "# Save the DataFrame to a CSV file with a filename based on the tickers\n",
    "csv_file = '_'.join(tickers)\n",
    "df.to_csv(f'{tickers}.csv', index=False)"
   ]
  },
  {
   "cell_type": "code",
   "execution_count": null,
   "metadata": {},
   "outputs": [],
   "source": []
  }
 ],
 "metadata": {
  "kernelspec": {
   "display_name": "finance",
   "language": "python",
   "name": "python3"
  },
  "language_info": {
   "codemirror_mode": {
    "name": "ipython",
    "version": 3
   },
   "file_extension": ".py",
   "mimetype": "text/x-python",
   "name": "python",
   "nbconvert_exporter": "python",
   "pygments_lexer": "ipython3",
   "version": "3.11.3"
  },
  "orig_nbformat": 4
 },
 "nbformat": 4,
 "nbformat_minor": 2
}
