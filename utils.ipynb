{
 "cells": [
  {
   "cell_type": "code",
   "execution_count": 1,
   "metadata": {},
   "outputs": [
    {
     "name": "stdout",
     "output_type": "stream",
     "text": [
      "218.10354863813234\n",
      "218.10354863813234\n",
      "218.10354863813234\n",
      "difference 0.6687649096530951\n",
      "218.10354863813234\n",
      "0.43469719127451184\n"
     ]
    },
    {
     "name": "stderr",
     "output_type": "stream",
     "text": [
      "/home/jukka/miniconda3/envs/finance/lib/python3.11/site-packages/yahoo_fin/stock_info.py:295: FutureWarning: The frame.append method is deprecated and will be removed from pandas in a future version. Use pandas.concat instead.\n",
      "  data = tables[0].append(tables[1])\n",
      "/home/jukka/miniconda3/envs/finance/lib/python3.11/site-packages/yahoo_fin/stock_info.py:302: FutureWarning: The frame.append method is deprecated and will be removed from pandas in a future version. Use pandas.concat instead.\n",
      "  data = data.append(quote_price)\n"
     ]
    },
    {
     "name": "stdout",
     "output_type": "stream",
     "text": [
      "current price 175.42999267578125\n"
     ]
    }
   ],
   "source": [
    "\n",
    "import pandas_datareader as pdr\n",
    "import yahoo_fin.stock_info as si\n",
    "from yahoo_fin.stock_info import get_analysts_info\n",
    "#Helper functions for the main notebook\n",
    "\n",
    "def intrinsic_value(eps, five_years_growth_rate, current_yield_of_aaa_corporate_bonds):\n",
    "    v = (eps * (7 + (1.0*five_years_growth_rate)) * 4.4)\n",
    "    print(v/current_yield_of_aaa_corporate_bonds)\n",
    "    return v/current_yield_of_aaa_corporate_bonds\n",
    "\n",
    "\n",
    "print(intrinsic_value(5.11, 17.93, 2.57))\n",
    "\n",
    "\n",
    "def safety_margin(instrincic_value, current_price):\n",
    "    return current_price/instrincic_value\n",
    "\n",
    "\n",
    "print(\"difference\", safety_margin(intrinsic_value(5.11, 17.93, 2.57), 145.86))\n",
    "\n",
    "\n",
    "def acceptable_buy_price(margin_of_safety, difference):\n",
    "    return margin_of_safety * difference\n",
    "\n",
    "\n",
    "print(acceptable_buy_price(0.65, safety_margin(\n",
    "    intrinsic_value(5.11, 17.93, 2.57), 145.86)))\n",
    "\n",
    "\n",
    "def buy_or_sell(acceptable_buy_price, current_price):\n",
    "    if acceptable_buy_price > current_price:\n",
    "        return \"buy\"\n",
    "    else:\n",
    "        return \"sell\"\n",
    "    \n",
    "\n",
    "def get_data(ticker, ng_pe, multiplier, margin):\n",
    "    quote = si.get_quote_table(ticker)\n",
    "    current_price = quote[\"Quote Price\"]\n",
    "    eps = quote[\"EPS (TTM)\"]\n",
    "    growth_df = get_analysts_info(ticker)['Growth Estimates']\n",
    "    growth_rate = growth_df.iloc[4][1]\n",
    "    growth_rate = growth_rate.rstrip(\"%\")\n",
    "    aaa_df = pdr.get_data_fred('AAA')\n",
    "    current_yield = aaa_df.iloc[-1][0]\n",
    "\n",
    "    output = {\n",
    "        \"current_price\": float(current_price),\n",
    "        \"eps\": float(eps),\n",
    "        \"growth_rate\": float(growth_rate),\n",
    "        \"current_yield\": float(current_yield),\n",
    "        \"ng_pe\": float(ng_pe),\n",
    "        \"multiplier\": float(multiplier),\n",
    "        \"margin\": float(margin)\n",
    "    }\n",
    "    return output\n",
    "data = get_data(\"AAPL\", 17.93, 4.4, 0.65)\n",
    "print(\"current price\" , data['current_price'])\n"
   ]
  },
  {
   "attachments": {},
   "cell_type": "markdown",
   "metadata": {},
   "source": []
  }
 ],
 "metadata": {
  "kernelspec": {
   "display_name": "finance",
   "language": "python",
   "name": "python3"
  },
  "language_info": {
   "codemirror_mode": {
    "name": "ipython",
    "version": 3
   },
   "file_extension": ".py",
   "mimetype": "text/x-python",
   "name": "python",
   "nbconvert_exporter": "python",
   "pygments_lexer": "ipython3",
   "version": "3.11.3"
  },
  "orig_nbformat": 4
 },
 "nbformat": 4,
 "nbformat_minor": 2
}
