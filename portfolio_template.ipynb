{
 "cells": [
  {
   "attachments": {},
   "cell_type": "markdown",
   "metadata": {},
   "source": [
    "# Portfolio calculaltor"
   ]
  },
  {
   "cell_type": "code",
   "execution_count": 1,
   "metadata": {},
   "outputs": [],
   "source": [
    "import yfinance as yf\n",
    "import pandas as pd\n",
    "from functions import process_stock_data"
   ]
  },
  {
   "attachments": {},
   "cell_type": "markdown",
   "metadata": {},
   "source": [
    "Add the tickers of your portfolio"
   ]
  },
  {
   "cell_type": "code",
   "execution_count": 2,
   "metadata": {},
   "outputs": [],
   "source": [
    "tickers = [\"NOK\"] \n",
    "fileName = tickers\n"
   ]
  },
  {
   "attachments": {},
   "cell_type": "markdown",
   "metadata": {},
   "source": [
    "Create an empty DataFrame to store the information for all tickers"
   ]
  },
  {
   "cell_type": "code",
   "execution_count": 3,
   "metadata": {},
   "outputs": [],
   "source": [
    "df = pd.DataFrame()"
   ]
  },
  {
   "attachments": {},
   "cell_type": "markdown",
   "metadata": {},
   "source": [
    "Loop through each ticker and retrieve the information"
   ]
  },
  {
   "cell_type": "code",
   "execution_count": 4,
   "metadata": {},
   "outputs": [],
   "source": [
    "for symbol in tickers:\n",
    "    stock = yf.Ticker(ticker=symbol)\n",
    "    stock_info = stock.get_info()\n",
    "\n",
    "    # Filter out unwanted values from the dictionary and append to the DataFrame\n",
    "    wanted_values = ['website', 'longName', 'industry', 'sector', 'fullTimeEmployees', 'auditRisk', 'boardRisk', 'previousClose', 'open', 'dayLow', 'dayHigh', 'dividendRate', 'dividendYield', 'payoutRatio', 'trailingPE', 'forwardPE', 'marketCap', 'priceToSalesTrailing12Months', 'enterpriseValue', 'profitMargins', 'priceToBook', 'trailingEps', 'freeCashflow', 'Growth Estimates']\n",
    "    # Array for rounded values\n",
    "    round_values = ['marketCap', 'enterpriseValue', 'freeCashflow']\n",
    "    # converted values\n",
    "    convert_to_euros = ['previousClose', 'marketCap', 'open', 'dayLow', 'dayHigh', 'dividendRate', 'freeCashflow'] \n",
    "\n",
    "    df_temp = pd.DataFrame.from_dict(data=process_stock_data(stock_info, wanted_values, round_values, convert_to_euros, symbol), orient='columns')\n",
    "    df = pd.concat([df, df_temp], ignore_index=True) "
   ]
  },
  {
   "attachments": {},
   "cell_type": "markdown",
   "metadata": {},
   "source": [
    "Decorate the columns"
   ]
  },
  {
   "cell_type": "code",
   "execution_count": 5,
   "metadata": {},
   "outputs": [
    {
     "data": {
      "text/html": [
       "<style type=\"text/css\">\n",
       "#T_594f0 th {\n",
       "  background-color: red;\n",
       "  color: white;\n",
       "  font-weight: bold;\n",
       "  text-align: center;\n",
       "}\n",
       "#T_594f0 tr:nth-child(odd) {\n",
       "  background-color: pink;\n",
       "  text-align: center;\n",
       "  font-weight: bold;\n",
       "}\n",
       "#T_594f0 tr:nth-child(even) {\n",
       "  background-color: white;\n",
       "  color: black;\n",
       "  text-align: center;\n",
       "  font-weight: bold;\n",
       "}\n",
       "</style>\n",
       "<table id=\"T_594f0\">\n",
       "  <thead>\n",
       "    <tr>\n",
       "      <th class=\"blank level0\" >&nbsp;</th>\n",
       "      <th id=\"T_594f0_level0_col0\" class=\"col_heading level0 col0\" >website</th>\n",
       "      <th id=\"T_594f0_level0_col1\" class=\"col_heading level0 col1\" >industry</th>\n",
       "      <th id=\"T_594f0_level0_col2\" class=\"col_heading level0 col2\" >sector</th>\n",
       "      <th id=\"T_594f0_level0_col3\" class=\"col_heading level0 col3\" >fullTimeEmployees</th>\n",
       "      <th id=\"T_594f0_level0_col4\" class=\"col_heading level0 col4\" >auditRisk</th>\n",
       "      <th id=\"T_594f0_level0_col5\" class=\"col_heading level0 col5\" >boardRisk</th>\n",
       "      <th id=\"T_594f0_level0_col6\" class=\"col_heading level0 col6\" >previousClose</th>\n",
       "      <th id=\"T_594f0_level0_col7\" class=\"col_heading level0 col7\" >open</th>\n",
       "      <th id=\"T_594f0_level0_col8\" class=\"col_heading level0 col8\" >dayLow</th>\n",
       "      <th id=\"T_594f0_level0_col9\" class=\"col_heading level0 col9\" >dayHigh</th>\n",
       "      <th id=\"T_594f0_level0_col10\" class=\"col_heading level0 col10\" >dividendRate</th>\n",
       "      <th id=\"T_594f0_level0_col11\" class=\"col_heading level0 col11\" >dividendYield</th>\n",
       "      <th id=\"T_594f0_level0_col12\" class=\"col_heading level0 col12\" >payoutRatio</th>\n",
       "      <th id=\"T_594f0_level0_col13\" class=\"col_heading level0 col13\" >trailingPE</th>\n",
       "      <th id=\"T_594f0_level0_col14\" class=\"col_heading level0 col14\" >forwardPE</th>\n",
       "      <th id=\"T_594f0_level0_col15\" class=\"col_heading level0 col15\" >marketCap</th>\n",
       "      <th id=\"T_594f0_level0_col16\" class=\"col_heading level0 col16\" >priceToSalesTrailing12Months</th>\n",
       "      <th id=\"T_594f0_level0_col17\" class=\"col_heading level0 col17\" >enterpriseValue</th>\n",
       "      <th id=\"T_594f0_level0_col18\" class=\"col_heading level0 col18\" >profitMargins</th>\n",
       "      <th id=\"T_594f0_level0_col19\" class=\"col_heading level0 col19\" >priceToBook</th>\n",
       "      <th id=\"T_594f0_level0_col20\" class=\"col_heading level0 col20\" >trailingEps</th>\n",
       "      <th id=\"T_594f0_level0_col21\" class=\"col_heading level0 col21\" >longName</th>\n",
       "      <th id=\"T_594f0_level0_col22\" class=\"col_heading level0 col22\" >freeCashflow</th>\n",
       "      <th id=\"T_594f0_level0_col23\" class=\"col_heading level0 col23\" >symbol</th>\n",
       "      <th id=\"T_594f0_level0_col24\" class=\"col_heading level0 col24\" >Five year growth</th>\n",
       "      <th id=\"T_594f0_level0_col25\" class=\"col_heading level0 col25\" >Intrinsic value</th>\n",
       "      <th id=\"T_594f0_level0_col26\" class=\"col_heading level0 col26\" >safety margin</th>\n",
       "      <th id=\"T_594f0_level0_col27\" class=\"col_heading level0 col27\" >Acceptable buying price</th>\n",
       "      <th id=\"T_594f0_level0_col28\" class=\"col_heading level0 col28\" >Buy/Sell</th>\n",
       "    </tr>\n",
       "  </thead>\n",
       "  <tbody>\n",
       "    <tr>\n",
       "      <th id=\"T_594f0_level0_row0\" class=\"row_heading level0 row0\" >0</th>\n",
       "      <td id=\"T_594f0_row0_col0\" class=\"data row0 col0\" >https://www.nokia.com</td>\n",
       "      <td id=\"T_594f0_row0_col1\" class=\"data row0 col1\" >Communication Equipment</td>\n",
       "      <td id=\"T_594f0_row0_col2\" class=\"data row0 col2\" >Technology</td>\n",
       "      <td id=\"T_594f0_row0_col3\" class=\"data row0 col3\" >86896</td>\n",
       "      <td id=\"T_594f0_row0_col4\" class=\"data row0 col4\" >1</td>\n",
       "      <td id=\"T_594f0_row0_col5\" class=\"data row0 col5\" >1</td>\n",
       "      <td id=\"T_594f0_row0_col6\" class=\"data row0 col6\" >3.770000</td>\n",
       "      <td id=\"T_594f0_row0_col7\" class=\"data row0 col7\" >3.780000</td>\n",
       "      <td id=\"T_594f0_row0_col8\" class=\"data row0 col8\" >3.760000</td>\n",
       "      <td id=\"T_594f0_row0_col9\" class=\"data row0 col9\" >3.810000</td>\n",
       "      <td id=\"T_594f0_row0_col10\" class=\"data row0 col10\" >0.110000</td>\n",
       "      <td id=\"T_594f0_row0_col11\" class=\"data row0 col11\" >0.028300</td>\n",
       "      <td id=\"T_594f0_row0_col12\" class=\"data row0 col12\" >0.122000</td>\n",
       "      <td id=\"T_594f0_row0_col13\" class=\"data row0 col13\" >4.810126</td>\n",
       "      <td id=\"T_594f0_row0_col14\" class=\"data row0 col14\" >8.260869</td>\n",
       "      <td id=\"T_594f0_row0_col15\" class=\"data row0 col15\" >21069.707264</td>\n",
       "      <td id=\"T_594f0_row0_col16\" class=\"data row0 col16\" >0.834114</td>\n",
       "      <td id=\"T_594f0_row0_col17\" class=\"data row0 col17\" >19414.568960</td>\n",
       "      <td id=\"T_594f0_row0_col18\" class=\"data row0 col18\" >0.164290</td>\n",
       "      <td id=\"T_594f0_row0_col19\" class=\"data row0 col19\" >0.995285</td>\n",
       "      <td id=\"T_594f0_row0_col20\" class=\"data row0 col20\" >0.790000</td>\n",
       "      <td id=\"T_594f0_row0_col21\" class=\"data row0 col21\" >Nokia Oyj</td>\n",
       "      <td id=\"T_594f0_row0_col22\" class=\"data row0 col22\" >-474.500000</td>\n",
       "      <td id=\"T_594f0_row0_col23\" class=\"data row0 col23\" >NOK</td>\n",
       "      <td id=\"T_594f0_row0_col24\" class=\"data row0 col24\" >6.720000</td>\n",
       "      <td id=\"T_594f0_row0_col25\" class=\"data row0 col25\" >6.031274</td>\n",
       "      <td id=\"T_594f0_row0_col26\" class=\"data row0 col26\" >0.650000</td>\n",
       "      <td id=\"T_594f0_row0_col27\" class=\"data row0 col27\" >3.920328</td>\n",
       "      <td id=\"T_594f0_row0_col28\" class=\"data row0 col28\" >Buy</td>\n",
       "    </tr>\n",
       "  </tbody>\n",
       "</table>\n"
      ],
      "text/plain": [
       "<pandas.io.formats.style.Styler at 0x7fdf34abba30>"
      ]
     },
     "execution_count": 5,
     "metadata": {},
     "output_type": "execute_result"
    }
   ],
   "source": [
    "styles = [\n",
    "    {'selector': 'th', 'props': [('background-color', 'red'), ('color', 'white'), ('font-weight', 'bold'), ('text-align', 'center')]},\n",
    "    {'selector': 'tr:nth-child(odd)', 'props': [('background-color', 'pink'), ('text-align', 'center'), ('font-weight', 'bold')]},\n",
    "    {'selector': 'tr:nth-child(even)', 'props': [('background-color', 'white'), ('color', 'black'), ('text-align', 'center'), ('font-weight', 'bold')]},\n",
    "]\n",
    "df_styled = df.style.set_table_styles(styles)\n",
    "\n",
    "# Display the styled DataFrame\n",
    "df_styled"
   ]
  },
  {
   "attachments": {},
   "cell_type": "markdown",
   "metadata": {},
   "source": [
    "Save the DataFrame to a CSV file with a filename based on the tickers"
   ]
  },
  {
   "cell_type": "code",
   "execution_count": null,
   "metadata": {},
   "outputs": [],
   "source": [
    "csv_file = '_'.join(tickers)\n",
    "df.to_csv(f'{tickers}.csv', index=False)"
   ]
  }
 ],
 "metadata": {
  "kernelspec": {
   "display_name": "finance",
   "language": "python",
   "name": "python3"
  },
  "language_info": {
   "codemirror_mode": {
    "name": "ipython",
    "version": 3
   },
   "file_extension": ".py",
   "mimetype": "text/x-python",
   "name": "python",
   "nbconvert_exporter": "python",
   "pygments_lexer": "ipython3",
   "version": "3.10.12"
  },
  "orig_nbformat": 4
 },
 "nbformat": 4,
 "nbformat_minor": 2
}
