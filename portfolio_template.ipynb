{
 "cells": [
  {
   "attachments": {},
   "cell_type": "markdown",
   "metadata": {},
   "source": [
    "# Portfolio calculaltor"
   ]
  },
  {
   "cell_type": "code",
   "execution_count": 1,
   "metadata": {},
   "outputs": [],
   "source": [
    "import yfinance as yf\n",
    "import pandas as pd\n",
    "from functions import process_stock_data"
   ]
  },
  {
   "attachments": {},
   "cell_type": "markdown",
   "metadata": {},
   "source": [
    "Add the tickers of your portfolio"
   ]
  },
  {
   "cell_type": "code",
   "execution_count": 2,
   "metadata": {},
   "outputs": [],
   "source": [
    "tickers = [\"AAPL\"] \n",
    "fileName = tickers\n"
   ]
  },
  {
   "attachments": {},
   "cell_type": "markdown",
   "metadata": {},
   "source": [
    "Create an empty DataFrame to store the information for all tickers"
   ]
  },
  {
   "cell_type": "code",
   "execution_count": 3,
   "metadata": {},
   "outputs": [],
   "source": [
    "df = pd.DataFrame()"
   ]
  },
  {
   "attachments": {},
   "cell_type": "markdown",
   "metadata": {},
   "source": [
    "Loop through each ticker and retrieve the information"
   ]
  },
  {
   "cell_type": "code",
   "execution_count": 4,
   "metadata": {},
   "outputs": [
    {
     "name": "stdout",
     "output_type": "stream",
     "text": [
      "7.96\n",
      "eps 5.89\n",
      "intrinsic_val 37.929824120603016\n",
      "current_price 190.54\n",
      "safety_margin 0.65\n",
      "margin_of_safety 0.65\n",
      "buy_price 24.65438567839196\n",
      "acceptable buy price 24.65438567839196 190.54\n"
     ]
    }
   ],
   "source": [
    "for symbol in tickers:\n",
    "    stock = yf.Ticker(ticker=symbol)\n",
    "    stock_info = stock.get_info()\n",
    "\n",
    "    # Filter out unwanted values from the dictionary and append to the DataFrame\n",
    "    wanted_values = ['website', 'longName', 'industry', 'sector', 'fullTimeEmployees', 'auditRisk', 'boardRisk', 'previousClose', 'open', 'dayLow', 'dayHigh', 'dividendRate', 'dividendYield', 'payoutRatio', 'trailingPE', 'forwardPE', 'marketCap', 'priceToSalesTrailing12Months', 'enterpriseValue', 'profitMargins', 'priceToBook', 'trailingEps', 'freeCashflow', 'Growth Estimates']\n",
    "    # Array for rounded values\n",
    "    round_values = ['marketCap', 'enterpriseValue', 'freeCashflow']\n",
    "    # converted values\n",
    "    convert_to_euros = ['previousClose', 'marketCap', 'open', 'dayLow', 'dayHigh', 'dividendRate', 'freeCashflow'] \n",
    "\n",
    "    df_temp = pd.DataFrame.from_dict(data=process_stock_data(stock_info, wanted_values, round_values, convert_to_euros, symbol), orient='columns')\n",
    "    df = pd.concat([df, df_temp], ignore_index=True) "
   ]
  },
  {
   "attachments": {},
   "cell_type": "markdown",
   "metadata": {},
   "source": [
    "Decorate the columns"
   ]
  },
  {
   "cell_type": "code",
   "execution_count": null,
   "metadata": {},
   "outputs": [],
   "source": [
    "styles = [\n",
    "    {'selector': 'th', 'props': [('background-color', 'red'), ('color', 'white'), ('font-weight', 'bold'), ('text-align', 'center')]},\n",
    "    {'selector': 'tr:nth-child(odd)', 'props': [('background-color', 'pink'), ('text-align', 'center'), ('font-weight', 'bold')]},\n",
    "    {'selector': 'tr:nth-child(even)', 'props': [('background-color', 'white'), ('color', 'black'), ('text-align', 'center'), ('font-weight', 'bold')]},\n",
    "]\n",
    "df_styled = df.style.set_table_styles(styles)\n",
    "\n",
    "# Display the styled DataFrame\n",
    "df_styled"
   ]
  },
  {
   "attachments": {},
   "cell_type": "markdown",
   "metadata": {},
   "source": [
    "Save the DataFrame to a CSV file with a filename based on the tickers"
   ]
  },
  {
   "cell_type": "code",
   "execution_count": null,
   "metadata": {},
   "outputs": [],
   "source": [
    "csv_file = '_'.join(tickers)\n",
    "df.to_csv(f'{tickers}.csv', index=False)"
   ]
  }
 ],
 "metadata": {
  "kernelspec": {
   "display_name": "finance",
   "language": "python",
   "name": "python3"
  },
  "language_info": {
   "codemirror_mode": {
    "name": "ipython",
    "version": 3
   },
   "file_extension": ".py",
   "mimetype": "text/x-python",
   "name": "python",
   "nbconvert_exporter": "python",
   "pygments_lexer": "ipython3",
   "version": "3.10.6"
  },
  "orig_nbformat": 4
 },
 "nbformat": 4,
 "nbformat_minor": 2
}
