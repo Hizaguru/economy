{
 "cells": [
  {
   "attachments": {},
   "cell_type": "markdown",
   "metadata": {},
   "source": [
    "# Portfolio"
   ]
  },
  {
   "cell_type": "code",
   "execution_count": null,
   "metadata": {},
   "outputs": [],
   "source": [
    "import yfinance as yf\n",
    "import pandas as pd\n",
    "from currency_converter import CurrencyConverter\n",
    "from functions import get_data"
   ]
  },
  {
   "attachments": {},
   "cell_type": "markdown",
   "metadata": {},
   "source": [
    "Add the tickers of your portfolio"
   ]
  },
  {
   "cell_type": "code",
   "execution_count": null,
   "metadata": {},
   "outputs": [],
   "source": [
    "tickers = [\"REMEDY.HE\"] \n",
    "fileName = tickers\n",
    "c = CurrencyConverter()\n",
    "ROUND_TO_BILLIONS = 0.000001"
   ]
  },
  {
   "attachments": {},
   "cell_type": "markdown",
   "metadata": {},
   "source": [
    "Create an empty DataFrame to store the information for all tickers"
   ]
  },
  {
   "cell_type": "code",
   "execution_count": null,
   "metadata": {},
   "outputs": [],
   "source": [
    "df = pd.DataFrame()"
   ]
  },
  {
   "attachments": {},
   "cell_type": "markdown",
   "metadata": {},
   "source": [
    "Loop through each ticker and retrieve the information"
   ]
  },
  {
   "cell_type": "code",
   "execution_count": null,
   "metadata": {},
   "outputs": [],
   "source": [
    "for symbol in tickers:\n",
    "    stock = yf.Ticker(ticker=symbol)\n",
    "    stock_info = stock.get_info()\n",
    "    \n",
    "    # Get the  stock's trailingPE for the \n",
    "    trailing_pe = stock_info.get('trailingPE')\n",
    "\n",
    "    # Filter out unwanted values from the dictionary and append to the DataFrame\n",
    "    wanted_values = ['website', 'longName', 'industry', 'sector', 'fullTimeEmployees', 'auditRisk', 'boardRisk', 'previousClose', 'open', 'dayLow', 'dayHigh', 'dividendRate', 'dividendYield', 'payoutRatio', 'trailingPE', 'forwardPE', 'marketCap', 'priceToSalesTrailing12Months', 'enterpriseValue', 'profitMargins', 'priceToBook', 'trailingEps', 'freeCashflow']\n",
    "    \n",
    "    # Array for rounded values\n",
    "    rounded_values = ['marketCap', 'enterpriseValue', 'freeCashflow']\n",
    "    # converted values\n",
    "    convert_to_euros = ['previousClose', 'marketCap', 'open', 'dayLow', 'dayHigh', 'dividendRate', 'freeCashflow'] \n",
    "    \n",
    "    d = {}\n",
    "    for k, v in stock_info.items():\n",
    "        if k in wanted_values:\n",
    "            if k in rounded_values:\n",
    "                v *= ROUND_TO_BILLIONS\n",
    "            elif k in convert_to_euros and stock_info.get('currency') == 'SEK':\n",
    "                v = round(c.convert(v, 'SEK', 'EUR'),1) * ROUND_TO_BILLIONS\n",
    "            elif k == 'enterpriseValue':\n",
    "                v*= ROUND_TO_BILLIONS\n",
    "            d[k] = [v] \n",
    "    df_temp = pd.DataFrame.from_dict(data=d, orient='columns')\n",
    "    df_temp['symbol'] = symbol  # Add a column for the ticker symbol\n",
    "    df = pd.concat([df, df_temp], ignore_index=True) "
   ]
  },
  {
   "attachments": {},
   "cell_type": "markdown",
   "metadata": {},
   "source": [
    "Decorate the columns"
   ]
  },
  {
   "cell_type": "code",
   "execution_count": null,
   "metadata": {},
   "outputs": [],
   "source": [
    "styles = [\n",
    "    {'selector': 'th', 'props': [('background-color', 'red'), ('color', 'white'), ('font-weight', 'bold'), ('text-align', 'center')]},\n",
    "    {'selector': 'tr:nth-child(odd)', 'props': [('background-color', 'pink'), ('text-align', 'center'), ('font-weight', 'bold')]},\n",
    "    {'selector': 'tr:nth-child(even)', 'props': [('background-color', 'white'), ('color', 'black'), ('text-align', 'center'), ('font-weight', 'bold')]},\n",
    "]\n",
    "df_styled = df.style.set_table_styles(styles)\n",
    "\n",
    "# Display the styled DataFrame\n",
    "df_styled"
   ]
  },
  {
   "attachments": {},
   "cell_type": "markdown",
   "metadata": {},
   "source": [
    "Save the DataFrame to a CSV file with a filename based on the tickers"
   ]
  },
  {
   "cell_type": "code",
   "execution_count": null,
   "metadata": {},
   "outputs": [],
   "source": [
    "csv_file = '_'.join(tickers)\n",
    "df.to_csv(f'{tickers}.csv', index=False)"
   ]
  }
 ],
 "metadata": {
  "kernelspec": {
   "display_name": "finance",
   "language": "python",
   "name": "python3"
  },
  "language_info": {
   "codemirror_mode": {
    "name": "ipython",
    "version": 3
   },
   "file_extension": ".py",
   "mimetype": "text/x-python",
   "name": "python",
   "nbconvert_exporter": "python",
   "pygments_lexer": "ipython3",
   "version": "3.10.6"
  },
  "orig_nbformat": 4
 },
 "nbformat": 4,
 "nbformat_minor": 2
}
