{
 "cells": [
  {
   "attachments": {},
   "cell_type": "markdown",
   "metadata": {},
   "source": [
    "# Import libraries"
   ]
  },
  {
   "cell_type": "code",
   "execution_count": 17,
   "metadata": {},
   "outputs": [],
   "source": [
    "import yfinance as yf\n",
    "import pandas as pd\n",
    "from currency_converter import CurrencyConverter\n",
    "from functions import get_data"
   ]
  },
  {
   "attachments": {},
   "cell_type": "markdown",
   "metadata": {},
   "source": [
    "# Add the tickers of your portfolio"
   ]
  },
  {
   "cell_type": "code",
   "execution_count": 18,
   "metadata": {},
   "outputs": [],
   "source": [
    "tickers = [\"REMEDY.HE\"] \n",
    "fileName = tickers\n",
    "c = CurrencyConverter()\n",
    "ROUND_TO_BILLIONS = 0.000001"
   ]
  },
  {
   "attachments": {},
   "cell_type": "markdown",
   "metadata": {},
   "source": [
    "# Create an empty DataFrame to store the information for all tickers"
   ]
  },
  {
   "cell_type": "code",
   "execution_count": 19,
   "metadata": {},
   "outputs": [],
   "source": [
    "df = pd.DataFrame()"
   ]
  },
  {
   "attachments": {},
   "cell_type": "markdown",
   "metadata": {},
   "source": [
    "# Loop through each ticker and retrieve the information"
   ]
  },
  {
   "cell_type": "code",
   "execution_count": 20,
   "metadata": {},
   "outputs": [],
   "source": [
    "def process_stock_data(stock_info, wanted_values, rounded_values, convert_to_euros, symbol):\n",
    "    d = {}\n",
    "    for k, v in stock_info.items():\n",
    "        if k in wanted_values:\n",
    "            if k in rounded_values:\n",
    "                v *= ROUND_TO_BILLIONS\n",
    "            elif k in convert_to_euros and stock_info.get('currency') == 'SEK':\n",
    "                v = round(c.convert(v, 'SEK', 'EUR'),1) * ROUND_TO_BILLIONS\n",
    "            elif k == 'enterpriseValue':\n",
    "                v*= ROUND_TO_BILLIONS\n",
    "            d[k] = [v] \n",
    "    d['symbol'] = [symbol]  # Add a column for the ticker symbol\n",
    "    return d\n",
    "\n",
    "\n",
    "for symbol in tickers:\n",
    "    stock = yf.Ticker(ticker=symbol)\n",
    "    stock_info = stock.get_info()\n",
    "    \n",
    "    # Get the  stock's trailingPE for the \n",
    "    trailing_pe = stock_info.get('trailingPE')\n",
    "\n",
    "    # Filter out unwanted values from the dictionary and append to the DataFrame\n",
    "    wanted_values = ['website', 'longName', 'industry', 'sector', 'fullTimeEmployees', 'auditRisk', 'boardRisk', 'previousClose', 'open', 'dayLow', 'dayHigh', 'dividendRate', 'dividendYield', 'payoutRatio', 'trailingPE', 'forwardPE', 'marketCap', 'priceToSalesTrailing12Months', 'enterpriseValue', 'profitMargins', 'priceToBook', 'trailingEps', 'freeCashflow']\n",
    "    \n",
    "    # Array for rounded values\n",
    "    rounded_values = ['marketCap', 'enterpriseValue', 'freeCashflow']\n",
    "    # converted values\n",
    "    convert_to_euros = ['previousClose', 'marketCap', 'open', 'dayLow', 'dayHigh', 'dividendRate', 'freeCashflow'] \n",
    "\n",
    "    df_temp = pd.DataFrame.from_dict(data=process_stock_data(stock_info, wanted_values, rounded_values, convert_to_euros, symbol), orient='columns')\n",
    "    df = pd.concat([df, df_temp], ignore_index=True) "
   ]
  },
  {
   "attachments": {},
   "cell_type": "markdown",
   "metadata": {},
   "source": [
    "# Decorate the columns"
   ]
  },
  {
   "cell_type": "code",
   "execution_count": 21,
   "metadata": {},
   "outputs": [
    {
     "data": {
      "text/html": [
       "<style type=\"text/css\">\n",
       "#T_cc485 th {\n",
       "  background-color: red;\n",
       "  color: white;\n",
       "  font-weight: bold;\n",
       "  text-align: center;\n",
       "}\n",
       "#T_cc485 tr:nth-child(odd) {\n",
       "  background-color: pink;\n",
       "  text-align: center;\n",
       "  font-weight: bold;\n",
       "}\n",
       "#T_cc485 tr:nth-child(even) {\n",
       "  background-color: white;\n",
       "  color: black;\n",
       "  text-align: center;\n",
       "  font-weight: bold;\n",
       "}\n",
       "</style>\n",
       "<table id=\"T_cc485\">\n",
       "  <thead>\n",
       "    <tr>\n",
       "      <th class=\"blank level0\" >&nbsp;</th>\n",
       "      <th id=\"T_cc485_level0_col0\" class=\"col_heading level0 col0\" >website</th>\n",
       "      <th id=\"T_cc485_level0_col1\" class=\"col_heading level0 col1\" >industry</th>\n",
       "      <th id=\"T_cc485_level0_col2\" class=\"col_heading level0 col2\" >sector</th>\n",
       "      <th id=\"T_cc485_level0_col3\" class=\"col_heading level0 col3\" >fullTimeEmployees</th>\n",
       "      <th id=\"T_cc485_level0_col4\" class=\"col_heading level0 col4\" >previousClose</th>\n",
       "      <th id=\"T_cc485_level0_col5\" class=\"col_heading level0 col5\" >open</th>\n",
       "      <th id=\"T_cc485_level0_col6\" class=\"col_heading level0 col6\" >dayLow</th>\n",
       "      <th id=\"T_cc485_level0_col7\" class=\"col_heading level0 col7\" >dayHigh</th>\n",
       "      <th id=\"T_cc485_level0_col8\" class=\"col_heading level0 col8\" >dividendRate</th>\n",
       "      <th id=\"T_cc485_level0_col9\" class=\"col_heading level0 col9\" >dividendYield</th>\n",
       "      <th id=\"T_cc485_level0_col10\" class=\"col_heading level0 col10\" >forwardPE</th>\n",
       "      <th id=\"T_cc485_level0_col11\" class=\"col_heading level0 col11\" >marketCap</th>\n",
       "      <th id=\"T_cc485_level0_col12\" class=\"col_heading level0 col12\" >priceToSalesTrailing12Months</th>\n",
       "      <th id=\"T_cc485_level0_col13\" class=\"col_heading level0 col13\" >enterpriseValue</th>\n",
       "      <th id=\"T_cc485_level0_col14\" class=\"col_heading level0 col14\" >profitMargins</th>\n",
       "      <th id=\"T_cc485_level0_col15\" class=\"col_heading level0 col15\" >priceToBook</th>\n",
       "      <th id=\"T_cc485_level0_col16\" class=\"col_heading level0 col16\" >trailingEps</th>\n",
       "      <th id=\"T_cc485_level0_col17\" class=\"col_heading level0 col17\" >longName</th>\n",
       "      <th id=\"T_cc485_level0_col18\" class=\"col_heading level0 col18\" >freeCashflow</th>\n",
       "      <th id=\"T_cc485_level0_col19\" class=\"col_heading level0 col19\" >symbol</th>\n",
       "    </tr>\n",
       "  </thead>\n",
       "  <tbody>\n",
       "    <tr>\n",
       "      <th id=\"T_cc485_level0_row0\" class=\"row_heading level0 row0\" >0</th>\n",
       "      <td id=\"T_cc485_row0_col0\" class=\"data row0 col0\" >https://www.remedygames.com</td>\n",
       "      <td id=\"T_cc485_row0_col1\" class=\"data row0 col1\" >Electronic Gaming & Multimedia</td>\n",
       "      <td id=\"T_cc485_row0_col2\" class=\"data row0 col2\" >Communication Services</td>\n",
       "      <td id=\"T_cc485_row0_col3\" class=\"data row0 col3\" >334</td>\n",
       "      <td id=\"T_cc485_row0_col4\" class=\"data row0 col4\" >24.350000</td>\n",
       "      <td id=\"T_cc485_row0_col5\" class=\"data row0 col5\" >24.450000</td>\n",
       "      <td id=\"T_cc485_row0_col6\" class=\"data row0 col6\" >24.450000</td>\n",
       "      <td id=\"T_cc485_row0_col7\" class=\"data row0 col7\" >24.900000</td>\n",
       "      <td id=\"T_cc485_row0_col8\" class=\"data row0 col8\" >0.100000</td>\n",
       "      <td id=\"T_cc485_row0_col9\" class=\"data row0 col9\" >0.004100</td>\n",
       "      <td id=\"T_cc485_row0_col10\" class=\"data row0 col10\" >308.750030</td>\n",
       "      <td id=\"T_cc485_row0_col11\" class=\"data row0 col11\" >332.711488</td>\n",
       "      <td id=\"T_cc485_row0_col12\" class=\"data row0 col12\" >7.633098</td>\n",
       "      <td id=\"T_cc485_row0_col13\" class=\"data row0 col13\" >283.665280</td>\n",
       "      <td id=\"T_cc485_row0_col14\" class=\"data row0 col14\" >-0.039600</td>\n",
       "      <td id=\"T_cc485_row0_col15\" class=\"data row0 col15\" >3.759513</td>\n",
       "      <td id=\"T_cc485_row0_col16\" class=\"data row0 col16\" >-0.130000</td>\n",
       "      <td id=\"T_cc485_row0_col17\" class=\"data row0 col17\" >Remedy Entertainment Oyj</td>\n",
       "      <td id=\"T_cc485_row0_col18\" class=\"data row0 col18\" >0.510125</td>\n",
       "      <td id=\"T_cc485_row0_col19\" class=\"data row0 col19\" >REMEDY.HE</td>\n",
       "    </tr>\n",
       "  </tbody>\n",
       "</table>\n"
      ],
      "text/plain": [
       "<pandas.io.formats.style.Styler at 0x7f56be537fd0>"
      ]
     },
     "execution_count": 21,
     "metadata": {},
     "output_type": "execute_result"
    }
   ],
   "source": [
    "styles = [\n",
    "    {'selector': 'th', 'props': [('background-color', 'red'), ('color', 'white'), ('font-weight', 'bold'), ('text-align', 'center')]},\n",
    "    {'selector': 'tr:nth-child(odd)', 'props': [('background-color', 'pink'), ('text-align', 'center'), ('font-weight', 'bold')]},\n",
    "    {'selector': 'tr:nth-child(even)', 'props': [('background-color', 'white'), ('color', 'black'), ('text-align', 'center'), ('font-weight', 'bold')]},\n",
    "]\n",
    "df_styled = df.style.set_table_styles(styles)\n",
    "\n",
    "# Display the styled DataFrame\n",
    "df_styled"
   ]
  },
  {
   "attachments": {},
   "cell_type": "markdown",
   "metadata": {},
   "source": [
    "# Save the DataFrame to a CSV file with a filename based on the tickers"
   ]
  },
  {
   "cell_type": "code",
   "execution_count": 22,
   "metadata": {},
   "outputs": [],
   "source": [
    "csv_file = '_'.join(tickers)\n",
    "df.to_csv(f'{tickers}.csv', index=False)"
   ]
  }
 ],
 "metadata": {
  "kernelspec": {
   "display_name": "finance",
   "language": "python",
   "name": "python3"
  },
  "language_info": {
   "codemirror_mode": {
    "name": "ipython",
    "version": 3
   },
   "file_extension": ".py",
   "mimetype": "text/x-python",
   "name": "python",
   "nbconvert_exporter": "python",
   "pygments_lexer": "ipython3",
   "version": "3.10.6"
  },
  "orig_nbformat": 4
 },
 "nbformat": 4,
 "nbformat_minor": 2
}
