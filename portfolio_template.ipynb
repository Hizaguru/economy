{
 "cells": [
  {
   "attachments": {},
   "cell_type": "markdown",
   "metadata": {},
   "source": [
    "# Portfolio calculaltor"
   ]
  },
  {
   "cell_type": "code",
   "execution_count": 7,
   "metadata": {},
   "outputs": [],
   "source": [
    "import yfinance as yf\n",
    "import pandas as pd\n",
    "from functions import process_stock_data"
   ]
  },
  {
   "attachments": {},
   "cell_type": "markdown",
   "metadata": {},
   "source": [
    "Add the tickers of your portfolio"
   ]
  },
  {
   "cell_type": "code",
   "execution_count": 8,
   "metadata": {},
   "outputs": [],
   "source": [
    "tickers = [\"NOK\"] \n",
    "fileName = tickers\n"
   ]
  },
  {
   "attachments": {},
   "cell_type": "markdown",
   "metadata": {},
   "source": [
    "Create an empty DataFrame to store the information for all tickers"
   ]
  },
  {
   "cell_type": "code",
   "execution_count": 9,
   "metadata": {},
   "outputs": [],
   "source": [
    "df = pd.DataFrame()"
   ]
  },
  {
   "attachments": {},
   "cell_type": "markdown",
   "metadata": {},
   "source": [
    "Loop through each ticker and retrieve the information"
   ]
  },
  {
   "cell_type": "code",
   "execution_count": 10,
   "metadata": {},
   "outputs": [
    {
     "ename": "HTTPError",
     "evalue": "404 Client Error: Not Found for url: https://query2.finance.yahoo.com/v6/finance/quoteSummary/SAAB.AB?modules=financialData&modules=quoteType&modules=defaultKeyStatistics&modules=assetProfile&modules=summaryDetail&ssl=true",
     "output_type": "error",
     "traceback": [
      "\u001b[0;31m---------------------------------------------------------------------------\u001b[0m",
      "\u001b[0;31mHTTPError\u001b[0m                                 Traceback (most recent call last)",
      "Cell \u001b[0;32mIn[10], line 3\u001b[0m\n\u001b[1;32m      1\u001b[0m \u001b[39mfor\u001b[39;00m symbol \u001b[39min\u001b[39;00m tickers:\n\u001b[1;32m      2\u001b[0m     stock \u001b[39m=\u001b[39m yf\u001b[39m.\u001b[39mTicker(ticker\u001b[39m=\u001b[39msymbol)\n\u001b[0;32m----> 3\u001b[0m     stock_info \u001b[39m=\u001b[39m stock\u001b[39m.\u001b[39;49mget_info()\n\u001b[1;32m      5\u001b[0m     \u001b[39m# Filter out unwanted values from the dictionary and append to the DataFrame\u001b[39;00m\n\u001b[1;32m      6\u001b[0m     wanted_values \u001b[39m=\u001b[39m [\u001b[39m'\u001b[39m\u001b[39mwebsite\u001b[39m\u001b[39m'\u001b[39m, \u001b[39m'\u001b[39m\u001b[39mlongName\u001b[39m\u001b[39m'\u001b[39m, \u001b[39m'\u001b[39m\u001b[39mindustry\u001b[39m\u001b[39m'\u001b[39m, \u001b[39m'\u001b[39m\u001b[39msector\u001b[39m\u001b[39m'\u001b[39m, \u001b[39m'\u001b[39m\u001b[39mfullTimeEmployees\u001b[39m\u001b[39m'\u001b[39m, \u001b[39m'\u001b[39m\u001b[39mauditRisk\u001b[39m\u001b[39m'\u001b[39m, \u001b[39m'\u001b[39m\u001b[39mboardRisk\u001b[39m\u001b[39m'\u001b[39m, \u001b[39m'\u001b[39m\u001b[39mpreviousClose\u001b[39m\u001b[39m'\u001b[39m, \u001b[39m'\u001b[39m\u001b[39mopen\u001b[39m\u001b[39m'\u001b[39m, \u001b[39m'\u001b[39m\u001b[39mdayLow\u001b[39m\u001b[39m'\u001b[39m, \u001b[39m'\u001b[39m\u001b[39mdayHigh\u001b[39m\u001b[39m'\u001b[39m, \u001b[39m'\u001b[39m\u001b[39mdividendRate\u001b[39m\u001b[39m'\u001b[39m, \u001b[39m'\u001b[39m\u001b[39mdividendYield\u001b[39m\u001b[39m'\u001b[39m, \u001b[39m'\u001b[39m\u001b[39mpayoutRatio\u001b[39m\u001b[39m'\u001b[39m, \u001b[39m'\u001b[39m\u001b[39mtrailingPE\u001b[39m\u001b[39m'\u001b[39m, \u001b[39m'\u001b[39m\u001b[39mforwardPE\u001b[39m\u001b[39m'\u001b[39m, \u001b[39m'\u001b[39m\u001b[39mmarketCap\u001b[39m\u001b[39m'\u001b[39m, \u001b[39m'\u001b[39m\u001b[39mpriceToSalesTrailing12Months\u001b[39m\u001b[39m'\u001b[39m, \u001b[39m'\u001b[39m\u001b[39menterpriseValue\u001b[39m\u001b[39m'\u001b[39m, \u001b[39m'\u001b[39m\u001b[39mprofitMargins\u001b[39m\u001b[39m'\u001b[39m, \u001b[39m'\u001b[39m\u001b[39mpriceToBook\u001b[39m\u001b[39m'\u001b[39m, \u001b[39m'\u001b[39m\u001b[39mtrailingEps\u001b[39m\u001b[39m'\u001b[39m, \u001b[39m'\u001b[39m\u001b[39mfreeCashflow\u001b[39m\u001b[39m'\u001b[39m, \u001b[39m'\u001b[39m\u001b[39mGrowth Estimates\u001b[39m\u001b[39m'\u001b[39m]\n",
      "File \u001b[0;32m~/coding/economy/venv/lib/python3.10/site-packages/yfinance/base.py:1501\u001b[0m, in \u001b[0;36mTickerBase.get_info\u001b[0;34m(self, proxy)\u001b[0m\n\u001b[1;32m   1499\u001b[0m \u001b[39mdef\u001b[39;00m \u001b[39mget_info\u001b[39m(\u001b[39mself\u001b[39m, proxy\u001b[39m=\u001b[39m\u001b[39mNone\u001b[39;00m) \u001b[39m-\u001b[39m\u001b[39m>\u001b[39m \u001b[39mdict\u001b[39m:\n\u001b[1;32m   1500\u001b[0m     \u001b[39mself\u001b[39m\u001b[39m.\u001b[39m_quote\u001b[39m.\u001b[39mproxy \u001b[39m=\u001b[39m proxy\n\u001b[0;32m-> 1501\u001b[0m     data \u001b[39m=\u001b[39m \u001b[39mself\u001b[39;49m\u001b[39m.\u001b[39;49m_quote\u001b[39m.\u001b[39;49minfo\n\u001b[1;32m   1502\u001b[0m     \u001b[39mreturn\u001b[39;00m data\n",
      "File \u001b[0;32m~/coding/economy/venv/lib/python3.10/site-packages/yfinance/scrapers/quote.py:562\u001b[0m, in \u001b[0;36mQuote.info\u001b[0;34m(self)\u001b[0m\n\u001b[1;32m    559\u001b[0m \u001b[39m@property\u001b[39m\n\u001b[1;32m    560\u001b[0m \u001b[39mdef\u001b[39;00m \u001b[39minfo\u001b[39m(\u001b[39mself\u001b[39m) \u001b[39m-\u001b[39m\u001b[39m>\u001b[39m \u001b[39mdict\u001b[39m:\n\u001b[1;32m    561\u001b[0m     \u001b[39mif\u001b[39;00m \u001b[39mself\u001b[39m\u001b[39m.\u001b[39m_info \u001b[39mis\u001b[39;00m \u001b[39mNone\u001b[39;00m:\n\u001b[0;32m--> 562\u001b[0m         \u001b[39mself\u001b[39;49m\u001b[39m.\u001b[39;49m_fetch(\u001b[39mself\u001b[39;49m\u001b[39m.\u001b[39;49mproxy)\n\u001b[1;32m    563\u001b[0m         \u001b[39mself\u001b[39m\u001b[39m.\u001b[39m_fetch_complementary(\u001b[39mself\u001b[39m\u001b[39m.\u001b[39mproxy)\n\u001b[1;32m    565\u001b[0m     \u001b[39mreturn\u001b[39;00m \u001b[39mself\u001b[39m\u001b[39m.\u001b[39m_info\n",
      "File \u001b[0;32m~/coding/economy/venv/lib/python3.10/site-packages/yfinance/scrapers/quote.py:593\u001b[0m, in \u001b[0;36mQuote._fetch\u001b[0;34m(self, proxy)\u001b[0m\n\u001b[1;32m    591\u001b[0m params_dict[\u001b[39m\"\u001b[39m\u001b[39mmodules\u001b[39m\u001b[39m\"\u001b[39m] \u001b[39m=\u001b[39m modules\n\u001b[1;32m    592\u001b[0m params_dict[\u001b[39m\"\u001b[39m\u001b[39mssl\u001b[39m\u001b[39m\"\u001b[39m] \u001b[39m=\u001b[39m \u001b[39m\"\u001b[39m\u001b[39mtrue\u001b[39m\u001b[39m\"\u001b[39m\n\u001b[0;32m--> 593\u001b[0m result \u001b[39m=\u001b[39m \u001b[39mself\u001b[39;49m\u001b[39m.\u001b[39;49m_data\u001b[39m.\u001b[39;49mget_raw_json(\n\u001b[1;32m    594\u001b[0m     _BASIC_URL_ \u001b[39m+\u001b[39;49m \u001b[39mf\u001b[39;49m\u001b[39m\"\u001b[39;49m\u001b[39m/\u001b[39;49m\u001b[39m{\u001b[39;49;00m\u001b[39mself\u001b[39;49m\u001b[39m.\u001b[39;49m_data\u001b[39m.\u001b[39;49mticker\u001b[39m}\u001b[39;49;00m\u001b[39m\"\u001b[39;49m, params\u001b[39m=\u001b[39;49mparams_dict, proxy\u001b[39m=\u001b[39;49mproxy\n\u001b[1;32m    595\u001b[0m )\n\u001b[1;32m    596\u001b[0m result[\u001b[39m\"\u001b[39m\u001b[39mquoteSummary\u001b[39m\u001b[39m\"\u001b[39m][\u001b[39m\"\u001b[39m\u001b[39mresult\u001b[39m\u001b[39m\"\u001b[39m][\u001b[39m0\u001b[39m][\u001b[39m\"\u001b[39m\u001b[39msymbol\u001b[39m\u001b[39m\"\u001b[39m] \u001b[39m=\u001b[39m \u001b[39mself\u001b[39m\u001b[39m.\u001b[39m_data\u001b[39m.\u001b[39mticker\n\u001b[1;32m    597\u001b[0m query1_info \u001b[39m=\u001b[39m \u001b[39mnext\u001b[39m(\n\u001b[1;32m    598\u001b[0m     (info \u001b[39mfor\u001b[39;00m info \u001b[39min\u001b[39;00m result\u001b[39m.\u001b[39mget(\u001b[39m\"\u001b[39m\u001b[39mquoteSummary\u001b[39m\u001b[39m\"\u001b[39m, {})\u001b[39m.\u001b[39mget(\u001b[39m\"\u001b[39m\u001b[39mresult\u001b[39m\u001b[39m\"\u001b[39m, []) \u001b[39mif\u001b[39;00m info[\u001b[39m\"\u001b[39m\u001b[39msymbol\u001b[39m\u001b[39m\"\u001b[39m] \u001b[39m==\u001b[39m \u001b[39mself\u001b[39m\u001b[39m.\u001b[39m_data\u001b[39m.\u001b[39mticker),\n\u001b[1;32m    599\u001b[0m     \u001b[39mNone\u001b[39;00m,\n\u001b[1;32m    600\u001b[0m )\n",
      "File \u001b[0;32m~/coding/economy/venv/lib/python3.10/site-packages/yfinance/data.py:75\u001b[0m, in \u001b[0;36mTickerData.get_raw_json\u001b[0;34m(self, url, user_agent_headers, params, proxy, timeout)\u001b[0m\n\u001b[1;32m     73\u001b[0m \u001b[39mdef\u001b[39;00m \u001b[39mget_raw_json\u001b[39m(\u001b[39mself\u001b[39m, url, user_agent_headers\u001b[39m=\u001b[39m\u001b[39mNone\u001b[39;00m, params\u001b[39m=\u001b[39m\u001b[39mNone\u001b[39;00m, proxy\u001b[39m=\u001b[39m\u001b[39mNone\u001b[39;00m, timeout\u001b[39m=\u001b[39m\u001b[39m30\u001b[39m):\n\u001b[1;32m     74\u001b[0m     response \u001b[39m=\u001b[39m \u001b[39mself\u001b[39m\u001b[39m.\u001b[39mget(url, user_agent_headers\u001b[39m=\u001b[39muser_agent_headers, params\u001b[39m=\u001b[39mparams, proxy\u001b[39m=\u001b[39mproxy, timeout\u001b[39m=\u001b[39mtimeout)\n\u001b[0;32m---> 75\u001b[0m     response\u001b[39m.\u001b[39;49mraise_for_status()\n\u001b[1;32m     76\u001b[0m     \u001b[39mreturn\u001b[39;00m response\u001b[39m.\u001b[39mjson()\n",
      "File \u001b[0;32m~/coding/economy/venv/lib/python3.10/site-packages/requests/models.py:1021\u001b[0m, in \u001b[0;36mResponse.raise_for_status\u001b[0;34m(self)\u001b[0m\n\u001b[1;32m   1016\u001b[0m     http_error_msg \u001b[39m=\u001b[39m (\n\u001b[1;32m   1017\u001b[0m         \u001b[39mf\u001b[39m\u001b[39m\"\u001b[39m\u001b[39m{\u001b[39;00m\u001b[39mself\u001b[39m\u001b[39m.\u001b[39mstatus_code\u001b[39m}\u001b[39;00m\u001b[39m Server Error: \u001b[39m\u001b[39m{\u001b[39;00mreason\u001b[39m}\u001b[39;00m\u001b[39m for url: \u001b[39m\u001b[39m{\u001b[39;00m\u001b[39mself\u001b[39m\u001b[39m.\u001b[39murl\u001b[39m}\u001b[39;00m\u001b[39m\"\u001b[39m\n\u001b[1;32m   1018\u001b[0m     )\n\u001b[1;32m   1020\u001b[0m \u001b[39mif\u001b[39;00m http_error_msg:\n\u001b[0;32m-> 1021\u001b[0m     \u001b[39mraise\u001b[39;00m HTTPError(http_error_msg, response\u001b[39m=\u001b[39m\u001b[39mself\u001b[39m)\n",
      "\u001b[0;31mHTTPError\u001b[0m: 404 Client Error: Not Found for url: https://query2.finance.yahoo.com/v6/finance/quoteSummary/SAAB.AB?modules=financialData&modules=quoteType&modules=defaultKeyStatistics&modules=assetProfile&modules=summaryDetail&ssl=true"
     ]
    }
   ],
   "source": [
    "for symbol in tickers:\n",
    "    stock = yf.Ticker(ticker=symbol)\n",
    "    stock_info = stock.get_info()\n",
    "\n",
    "    # Filter out unwanted values from the dictionary and append to the DataFrame\n",
    "    wanted_values = ['website', 'longName', 'industry', 'sector', 'fullTimeEmployees', 'auditRisk', 'boardRisk', 'previousClose', 'open', 'dayLow', 'dayHigh', 'dividendRate', 'dividendYield', 'payoutRatio', 'trailingPE', 'forwardPE', 'marketCap', 'priceToSalesTrailing12Months', 'enterpriseValue', 'profitMargins', 'priceToBook', 'trailingEps', 'freeCashflow', 'Growth Estimates']\n",
    "    # Array for rounded values\n",
    "    round_values = ['marketCap', 'enterpriseValue', 'freeCashflow']\n",
    "    # converted values\n",
    "    convert_to_euros = ['previousClose', 'marketCap', 'open', 'dayLow', 'dayHigh', 'dividendRate', 'freeCashflow'] \n",
    "\n",
    "    df_temp = pd.DataFrame.from_dict(data=process_stock_data(stock_info, wanted_values, round_values, convert_to_euros, symbol), orient='columns')\n",
    "    df = pd.concat([df, df_temp], ignore_index=True) "
   ]
  },
  {
   "attachments": {},
   "cell_type": "markdown",
   "metadata": {},
   "source": [
    "Decorate the columns"
   ]
  },
  {
   "cell_type": "code",
   "execution_count": 5,
   "metadata": {},
   "outputs": [
    {
     "data": {
      "text/html": [
       "<style type=\"text/css\">\n",
       "#T_d362b th {\n",
       "  background-color: red;\n",
       "  color: white;\n",
       "  font-weight: bold;\n",
       "  text-align: center;\n",
       "}\n",
       "#T_d362b tr:nth-child(odd) {\n",
       "  background-color: pink;\n",
       "  text-align: center;\n",
       "  font-weight: bold;\n",
       "}\n",
       "#T_d362b tr:nth-child(even) {\n",
       "  background-color: white;\n",
       "  color: black;\n",
       "  text-align: center;\n",
       "  font-weight: bold;\n",
       "}\n",
       "</style>\n",
       "<table id=\"T_d362b\">\n",
       "  <thead>\n",
       "    <tr>\n",
       "      <th class=\"blank level0\" >&nbsp;</th>\n",
       "      <th id=\"T_d362b_level0_col0\" class=\"col_heading level0 col0\" >website</th>\n",
       "      <th id=\"T_d362b_level0_col1\" class=\"col_heading level0 col1\" >industry</th>\n",
       "      <th id=\"T_d362b_level0_col2\" class=\"col_heading level0 col2\" >sector</th>\n",
       "      <th id=\"T_d362b_level0_col3\" class=\"col_heading level0 col3\" >fullTimeEmployees</th>\n",
       "      <th id=\"T_d362b_level0_col4\" class=\"col_heading level0 col4\" >auditRisk</th>\n",
       "      <th id=\"T_d362b_level0_col5\" class=\"col_heading level0 col5\" >boardRisk</th>\n",
       "      <th id=\"T_d362b_level0_col6\" class=\"col_heading level0 col6\" >previousClose</th>\n",
       "      <th id=\"T_d362b_level0_col7\" class=\"col_heading level0 col7\" >open</th>\n",
       "      <th id=\"T_d362b_level0_col8\" class=\"col_heading level0 col8\" >dayLow</th>\n",
       "      <th id=\"T_d362b_level0_col9\" class=\"col_heading level0 col9\" >dayHigh</th>\n",
       "      <th id=\"T_d362b_level0_col10\" class=\"col_heading level0 col10\" >dividendRate</th>\n",
       "      <th id=\"T_d362b_level0_col11\" class=\"col_heading level0 col11\" >dividendYield</th>\n",
       "      <th id=\"T_d362b_level0_col12\" class=\"col_heading level0 col12\" >payoutRatio</th>\n",
       "      <th id=\"T_d362b_level0_col13\" class=\"col_heading level0 col13\" >trailingPE</th>\n",
       "      <th id=\"T_d362b_level0_col14\" class=\"col_heading level0 col14\" >forwardPE</th>\n",
       "      <th id=\"T_d362b_level0_col15\" class=\"col_heading level0 col15\" >marketCap</th>\n",
       "      <th id=\"T_d362b_level0_col16\" class=\"col_heading level0 col16\" >priceToSalesTrailing12Months</th>\n",
       "      <th id=\"T_d362b_level0_col17\" class=\"col_heading level0 col17\" >enterpriseValue</th>\n",
       "      <th id=\"T_d362b_level0_col18\" class=\"col_heading level0 col18\" >profitMargins</th>\n",
       "      <th id=\"T_d362b_level0_col19\" class=\"col_heading level0 col19\" >priceToBook</th>\n",
       "      <th id=\"T_d362b_level0_col20\" class=\"col_heading level0 col20\" >trailingEps</th>\n",
       "      <th id=\"T_d362b_level0_col21\" class=\"col_heading level0 col21\" >longName</th>\n",
       "      <th id=\"T_d362b_level0_col22\" class=\"col_heading level0 col22\" >freeCashflow</th>\n",
       "      <th id=\"T_d362b_level0_col23\" class=\"col_heading level0 col23\" >symbol</th>\n",
       "      <th id=\"T_d362b_level0_col24\" class=\"col_heading level0 col24\" >Five year growth</th>\n",
       "      <th id=\"T_d362b_level0_col25\" class=\"col_heading level0 col25\" >Intrinsic value</th>\n",
       "      <th id=\"T_d362b_level0_col26\" class=\"col_heading level0 col26\" >safety margin</th>\n",
       "      <th id=\"T_d362b_level0_col27\" class=\"col_heading level0 col27\" >Acceptable buying price</th>\n",
       "      <th id=\"T_d362b_level0_col28\" class=\"col_heading level0 col28\" >Buy/Sell</th>\n",
       "    </tr>\n",
       "  </thead>\n",
       "  <tbody>\n",
       "    <tr>\n",
       "      <th id=\"T_d362b_level0_row0\" class=\"row_heading level0 row0\" >0</th>\n",
       "      <td id=\"T_d362b_row0_col0\" class=\"data row0 col0\" >https://www.nokia.com</td>\n",
       "      <td id=\"T_d362b_row0_col1\" class=\"data row0 col1\" >Communication Equipment</td>\n",
       "      <td id=\"T_d362b_row0_col2\" class=\"data row0 col2\" >Technology</td>\n",
       "      <td id=\"T_d362b_row0_col3\" class=\"data row0 col3\" >86896</td>\n",
       "      <td id=\"T_d362b_row0_col4\" class=\"data row0 col4\" >1</td>\n",
       "      <td id=\"T_d362b_row0_col5\" class=\"data row0 col5\" >1</td>\n",
       "      <td id=\"T_d362b_row0_col6\" class=\"data row0 col6\" >4.350000</td>\n",
       "      <td id=\"T_d362b_row0_col7\" class=\"data row0 col7\" >3.970000</td>\n",
       "      <td id=\"T_d362b_row0_col8\" class=\"data row0 col8\" >3.910000</td>\n",
       "      <td id=\"T_d362b_row0_col9\" class=\"data row0 col9\" >3.980000</td>\n",
       "      <td id=\"T_d362b_row0_col10\" class=\"data row0 col10\" >0.120000</td>\n",
       "      <td id=\"T_d362b_row0_col11\" class=\"data row0 col11\" >0.029000</td>\n",
       "      <td id=\"T_d362b_row0_col12\" class=\"data row0 col12\" >0.104100</td>\n",
       "      <td id=\"T_d362b_row0_col13\" class=\"data row0 col13\" >5.168831</td>\n",
       "      <td id=\"T_d362b_row0_col14\" class=\"data row0 col14\" >8.122449</td>\n",
       "      <td id=\"T_d362b_row0_col15\" class=\"data row0 col15\" >22114.234368</td>\n",
       "      <td id=\"T_d362b_row0_col16\" class=\"data row0 col16\" >0.869886</td>\n",
       "      <td id=\"T_d362b_row0_col17\" class=\"data row0 col17\" >19888.062464</td>\n",
       "      <td id=\"T_d362b_row0_col18\" class=\"data row0 col18\" >0.169810</td>\n",
       "      <td id=\"T_d362b_row0_col19\" class=\"data row0 col19\" >1.041612</td>\n",
       "      <td id=\"T_d362b_row0_col20\" class=\"data row0 col20\" >0.770000</td>\n",
       "      <td id=\"T_d362b_row0_col21\" class=\"data row0 col21\" >Nokia Oyj</td>\n",
       "      <td id=\"T_d362b_row0_col22\" class=\"data row0 col22\" >206.000000</td>\n",
       "      <td id=\"T_d362b_row0_col23\" class=\"data row0 col23\" >NOK</td>\n",
       "      <td id=\"T_d362b_row0_col24\" class=\"data row0 col24\" >6.720000</td>\n",
       "      <td id=\"T_d362b_row0_col25\" class=\"data row0 col25\" >5.873542</td>\n",
       "      <td id=\"T_d362b_row0_col26\" class=\"data row0 col26\" >0.740609</td>\n",
       "      <td id=\"T_d362b_row0_col27\" class=\"data row0 col27\" >4.350000</td>\n",
       "      <td id=\"T_d362b_row0_col28\" class=\"data row0 col28\" >Hold</td>\n",
       "    </tr>\n",
       "  </tbody>\n",
       "</table>\n"
      ],
      "text/plain": [
       "<pandas.io.formats.style.Styler at 0x7f0a03a25a80>"
      ]
     },
     "execution_count": 5,
     "metadata": {},
     "output_type": "execute_result"
    }
   ],
   "source": [
    "styles = [\n",
    "    {'selector': 'th', 'props': [('background-color', 'red'), ('color', 'white'), ('font-weight', 'bold'), ('text-align', 'center')]},\n",
    "    {'selector': 'tr:nth-child(odd)', 'props': [('background-color', 'pink'), ('text-align', 'center'), ('font-weight', 'bold')]},\n",
    "    {'selector': 'tr:nth-child(even)', 'props': [('background-color', 'white'), ('color', 'black'), ('text-align', 'center'), ('font-weight', 'bold')]},\n",
    "]\n",
    "df_styled = df.style.set_table_styles(styles)\n",
    "\n",
    "# Display the styled DataFrame\n",
    "df_styled"
   ]
  },
  {
   "attachments": {},
   "cell_type": "markdown",
   "metadata": {},
   "source": [
    "Save the DataFrame to a CSV file with a filename based on the tickers"
   ]
  },
  {
   "cell_type": "code",
   "execution_count": 6,
   "metadata": {},
   "outputs": [],
   "source": [
    "csv_file = '_'.join(tickers)\n",
    "df.to_csv(f'{tickers}.csv', index=False)"
   ]
  }
 ],
 "metadata": {
  "kernelspec": {
   "display_name": "finance",
   "language": "python",
   "name": "python3"
  },
  "language_info": {
   "codemirror_mode": {
    "name": "ipython",
    "version": 3
   },
   "file_extension": ".py",
   "mimetype": "text/x-python",
   "name": "python",
   "nbconvert_exporter": "python",
   "pygments_lexer": "ipython3",
   "version": "3.10.6"
  },
  "orig_nbformat": 4
 },
 "nbformat": 4,
 "nbformat_minor": 2
}
