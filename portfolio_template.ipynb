{
 "cells": [
  {
   "attachments": {},
   "cell_type": "markdown",
   "metadata": {},
   "source": [
    "# Portfolio calculaltor"
   ]
  },
  {
   "cell_type": "code",
   "execution_count": 6,
   "metadata": {},
   "outputs": [],
   "source": [
    "import yfinance as yf\n",
    "import pandas as pd\n",
    "from functions import process_stock_data"
   ]
  },
  {
   "attachments": {},
   "cell_type": "markdown",
   "metadata": {},
   "source": [
    "Add the tickers of your portfolio"
   ]
  },
  {
   "cell_type": "code",
   "execution_count": 7,
   "metadata": {},
   "outputs": [],
   "source": [
    "tickers = [\"NOK\"] \n",
    "fileName = tickers\n"
   ]
  },
  {
   "attachments": {},
   "cell_type": "markdown",
   "metadata": {},
   "source": [
    "Create an empty DataFrame to store the information for all tickers"
   ]
  },
  {
   "cell_type": "code",
   "execution_count": 8,
   "metadata": {},
   "outputs": [],
   "source": [
    "df = pd.DataFrame()"
   ]
  },
  {
   "attachments": {},
   "cell_type": "markdown",
   "metadata": {},
   "source": [
    "Loop through each ticker and retrieve the information"
   ]
  },
  {
   "cell_type": "code",
   "execution_count": 9,
   "metadata": {},
   "outputs": [
    {
     "name": "stdout",
     "output_type": "stream",
     "text": [
      "current yield 4.65\n",
      "five year growth 7.96\n",
      "eps 5.89\n",
      "intrinsic_val 37.929824120603016\n",
      "buy_price 24.65438567839196\n",
      "acceptable buy price 24.65438567839196 190.54\n"
     ]
    }
   ],
   "source": [
    "for symbol in tickers:\n",
    "    stock = yf.Ticker(ticker=symbol)\n",
    "    stock_info = stock.get_info()\n",
    "\n",
    "    # Filter out unwanted values from the dictionary and append to the DataFrame\n",
    "    wanted_values = ['website', 'longName', 'industry', 'sector', 'fullTimeEmployees', 'auditRisk', 'boardRisk', 'previousClose', 'open', 'dayLow', 'dayHigh', 'dividendRate', 'dividendYield', 'payoutRatio', 'trailingPE', 'forwardPE', 'marketCap', 'priceToSalesTrailing12Months', 'enterpriseValue', 'profitMargins', 'priceToBook', 'trailingEps', 'freeCashflow', 'Growth Estimates']\n",
    "    # Array for rounded values\n",
    "    round_values = ['marketCap', 'enterpriseValue', 'freeCashflow']\n",
    "    # converted values\n",
    "    convert_to_euros = ['previousClose', 'marketCap', 'open', 'dayLow', 'dayHigh', 'dividendRate', 'freeCashflow'] \n",
    "\n",
    "    df_temp = pd.DataFrame.from_dict(data=process_stock_data(stock_info, wanted_values, round_values, convert_to_euros, symbol), orient='columns')\n",
    "    df = pd.concat([df, df_temp], ignore_index=True) "
   ]
  },
  {
   "attachments": {},
   "cell_type": "markdown",
   "metadata": {},
   "source": [
    "Decorate the columns"
   ]
  },
  {
   "cell_type": "code",
   "execution_count": 10,
   "metadata": {},
   "outputs": [
    {
     "data": {
      "text/html": [
       "<style type=\"text/css\">\n",
       "#T_ac4fd th {\n",
       "  background-color: red;\n",
       "  color: white;\n",
       "  font-weight: bold;\n",
       "  text-align: center;\n",
       "}\n",
       "#T_ac4fd tr:nth-child(odd) {\n",
       "  background-color: pink;\n",
       "  text-align: center;\n",
       "  font-weight: bold;\n",
       "}\n",
       "#T_ac4fd tr:nth-child(even) {\n",
       "  background-color: white;\n",
       "  color: black;\n",
       "  text-align: center;\n",
       "  font-weight: bold;\n",
       "}\n",
       "</style>\n",
       "<table id=\"T_ac4fd\">\n",
       "  <thead>\n",
       "    <tr>\n",
       "      <th class=\"blank level0\" >&nbsp;</th>\n",
       "      <th id=\"T_ac4fd_level0_col0\" class=\"col_heading level0 col0\" >website</th>\n",
       "      <th id=\"T_ac4fd_level0_col1\" class=\"col_heading level0 col1\" >industry</th>\n",
       "      <th id=\"T_ac4fd_level0_col2\" class=\"col_heading level0 col2\" >sector</th>\n",
       "      <th id=\"T_ac4fd_level0_col3\" class=\"col_heading level0 col3\" >fullTimeEmployees</th>\n",
       "      <th id=\"T_ac4fd_level0_col4\" class=\"col_heading level0 col4\" >auditRisk</th>\n",
       "      <th id=\"T_ac4fd_level0_col5\" class=\"col_heading level0 col5\" >boardRisk</th>\n",
       "      <th id=\"T_ac4fd_level0_col6\" class=\"col_heading level0 col6\" >previousClose</th>\n",
       "      <th id=\"T_ac4fd_level0_col7\" class=\"col_heading level0 col7\" >open</th>\n",
       "      <th id=\"T_ac4fd_level0_col8\" class=\"col_heading level0 col8\" >dayLow</th>\n",
       "      <th id=\"T_ac4fd_level0_col9\" class=\"col_heading level0 col9\" >dayHigh</th>\n",
       "      <th id=\"T_ac4fd_level0_col10\" class=\"col_heading level0 col10\" >dividendRate</th>\n",
       "      <th id=\"T_ac4fd_level0_col11\" class=\"col_heading level0 col11\" >dividendYield</th>\n",
       "      <th id=\"T_ac4fd_level0_col12\" class=\"col_heading level0 col12\" >payoutRatio</th>\n",
       "      <th id=\"T_ac4fd_level0_col13\" class=\"col_heading level0 col13\" >trailingPE</th>\n",
       "      <th id=\"T_ac4fd_level0_col14\" class=\"col_heading level0 col14\" >forwardPE</th>\n",
       "      <th id=\"T_ac4fd_level0_col15\" class=\"col_heading level0 col15\" >marketCap</th>\n",
       "      <th id=\"T_ac4fd_level0_col16\" class=\"col_heading level0 col16\" >priceToSalesTrailing12Months</th>\n",
       "      <th id=\"T_ac4fd_level0_col17\" class=\"col_heading level0 col17\" >enterpriseValue</th>\n",
       "      <th id=\"T_ac4fd_level0_col18\" class=\"col_heading level0 col18\" >profitMargins</th>\n",
       "      <th id=\"T_ac4fd_level0_col19\" class=\"col_heading level0 col19\" >priceToBook</th>\n",
       "      <th id=\"T_ac4fd_level0_col20\" class=\"col_heading level0 col20\" >trailingEps</th>\n",
       "      <th id=\"T_ac4fd_level0_col21\" class=\"col_heading level0 col21\" >longName</th>\n",
       "      <th id=\"T_ac4fd_level0_col22\" class=\"col_heading level0 col22\" >freeCashflow</th>\n",
       "      <th id=\"T_ac4fd_level0_col23\" class=\"col_heading level0 col23\" >symbol</th>\n",
       "      <th id=\"T_ac4fd_level0_col24\" class=\"col_heading level0 col24\" >Five year growth</th>\n",
       "      <th id=\"T_ac4fd_level0_col25\" class=\"col_heading level0 col25\" >Intrinsic value</th>\n",
       "      <th id=\"T_ac4fd_level0_col26\" class=\"col_heading level0 col26\" >safety margin</th>\n",
       "      <th id=\"T_ac4fd_level0_col27\" class=\"col_heading level0 col27\" >Acceptable buying price</th>\n",
       "      <th id=\"T_ac4fd_level0_col28\" class=\"col_heading level0 col28\" >Buy/Sell</th>\n",
       "    </tr>\n",
       "  </thead>\n",
       "  <tbody>\n",
       "    <tr>\n",
       "      <th id=\"T_ac4fd_level0_row0\" class=\"row_heading level0 row0\" >0</th>\n",
       "      <td id=\"T_ac4fd_row0_col0\" class=\"data row0 col0\" >https://www.apple.com</td>\n",
       "      <td id=\"T_ac4fd_row0_col1\" class=\"data row0 col1\" >Consumer Electronics</td>\n",
       "      <td id=\"T_ac4fd_row0_col2\" class=\"data row0 col2\" >Technology</td>\n",
       "      <td id=\"T_ac4fd_row0_col3\" class=\"data row0 col3\" >164000</td>\n",
       "      <td id=\"T_ac4fd_row0_col4\" class=\"data row0 col4\" >4</td>\n",
       "      <td id=\"T_ac4fd_row0_col5\" class=\"data row0 col5\" >1</td>\n",
       "      <td id=\"T_ac4fd_row0_col6\" class=\"data row0 col6\" >190.540000</td>\n",
       "      <td id=\"T_ac4fd_row0_col7\" class=\"data row0 col7\" >190.230000</td>\n",
       "      <td id=\"T_ac4fd_row0_col8\" class=\"data row0 col8\" >189.630000</td>\n",
       "      <td id=\"T_ac4fd_row0_col9\" class=\"data row0 col9\" >191.175000</td>\n",
       "      <td id=\"T_ac4fd_row0_col10\" class=\"data row0 col10\" >0.960000</td>\n",
       "      <td id=\"T_ac4fd_row0_col11\" class=\"data row0 col11\" >0.005000</td>\n",
       "      <td id=\"T_ac4fd_row0_col12\" class=\"data row0 col12\" >0.155900</td>\n",
       "      <td id=\"T_ac4fd_row0_col13\" class=\"data row0 col13\" >32.375214</td>\n",
       "      <td id=\"T_ac4fd_row0_col14\" class=\"data row0 col14\" >28.980244</td>\n",
       "      <td id=\"T_ac4fd_row0_col15\" class=\"data row0 col15\" >2999305.895936</td>\n",
       "      <td id=\"T_ac4fd_row0_col16\" class=\"data row0 col16\" >7.788483</td>\n",
       "      <td id=\"T_ac4fd_row0_col17\" class=\"data row0 col17\" >3053049.085952</td>\n",
       "      <td id=\"T_ac4fd_row0_col18\" class=\"data row0 col18\" >0.244930</td>\n",
       "      <td id=\"T_ac4fd_row0_col19\" class=\"data row0 col19\" >48.239310</td>\n",
       "      <td id=\"T_ac4fd_row0_col20\" class=\"data row0 col20\" >5.890000</td>\n",
       "      <td id=\"T_ac4fd_row0_col21\" class=\"data row0 col21\" >Apple Inc.</td>\n",
       "      <td id=\"T_ac4fd_row0_col22\" class=\"data row0 col22\" >83796.623360</td>\n",
       "      <td id=\"T_ac4fd_row0_col23\" class=\"data row0 col23\" >AAPL</td>\n",
       "      <td id=\"T_ac4fd_row0_col24\" class=\"data row0 col24\" >7.960000</td>\n",
       "      <td id=\"T_ac4fd_row0_col25\" class=\"data row0 col25\" >37.929824</td>\n",
       "      <td id=\"T_ac4fd_row0_col26\" class=\"data row0 col26\" >0.650000</td>\n",
       "      <td id=\"T_ac4fd_row0_col27\" class=\"data row0 col27\" >24.654386</td>\n",
       "      <td id=\"T_ac4fd_row0_col28\" class=\"data row0 col28\" >Sell</td>\n",
       "    </tr>\n",
       "  </tbody>\n",
       "</table>\n"
      ],
      "text/plain": [
       "<pandas.io.formats.style.Styler at 0x7f893afa1930>"
      ]
     },
     "execution_count": 10,
     "metadata": {},
     "output_type": "execute_result"
    }
   ],
   "source": [
    "styles = [\n",
    "    {'selector': 'th', 'props': [('background-color', 'red'), ('color', 'white'), ('font-weight', 'bold'), ('text-align', 'center')]},\n",
    "    {'selector': 'tr:nth-child(odd)', 'props': [('background-color', 'pink'), ('text-align', 'center'), ('font-weight', 'bold')]},\n",
    "    {'selector': 'tr:nth-child(even)', 'props': [('background-color', 'white'), ('color', 'black'), ('text-align', 'center'), ('font-weight', 'bold')]},\n",
    "]\n",
    "df_styled = df.style.set_table_styles(styles)\n",
    "\n",
    "# Display the styled DataFrame\n",
    "df_styled"
   ]
  },
  {
   "attachments": {},
   "cell_type": "markdown",
   "metadata": {},
   "source": [
    "Save the DataFrame to a CSV file with a filename based on the tickers"
   ]
  },
  {
   "cell_type": "code",
   "execution_count": null,
   "metadata": {},
   "outputs": [],
   "source": [
    "csv_file = '_'.join(tickers)\n",
    "df.to_csv(f'{tickers}.csv', index=False)"
   ]
  }
 ],
 "metadata": {
  "kernelspec": {
   "display_name": "finance",
   "language": "python",
   "name": "python3"
  },
  "language_info": {
   "codemirror_mode": {
    "name": "ipython",
    "version": 3
   },
   "file_extension": ".py",
   "mimetype": "text/x-python",
   "name": "python",
   "nbconvert_exporter": "python",
   "pygments_lexer": "ipython3",
   "version": "3.10.6"
  },
  "orig_nbformat": 4
 },
 "nbformat": 4,
 "nbformat_minor": 2
}
