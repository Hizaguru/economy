{
 "cells": [
  {
   "cell_type": "markdown",
   "id": "b182b21c",
   "metadata": {},
   "source": [
    "# Import libraries"
   ]
  },
  {
   "cell_type": "code",
   "execution_count": 1,
   "id": "86fe97b7",
   "metadata": {},
   "outputs": [],
   "source": [
    "\n",
    "import yfinance as yf\n",
    "import pandas as pd\n",
    "import matplotlib.pyplot as plt\n",
    "from yahooquery import Ticker\n",
    "import pandas as pd\n",
    "from colorama import Fore, Style\n",
    "import csv\n",
    "from yahoo_fin import stock_info as si\n",
    "import json\n",
    "plt.style.use(\"seaborn-v0_8\")"
   ]
  },
  {
   "cell_type": "markdown",
   "id": "e2f05c67",
   "metadata": {},
   "source": [
    "Add Ticker"
   ]
  },
  {
   "cell_type": "code",
   "execution_count": 41,
   "id": "0affe728",
   "metadata": {},
   "outputs": [],
   "source": [
    "symbol = \"HEL: WITH\"\n",
    "csv_file = symbol"
   ]
  },
  {
   "cell_type": "code",
   "execution_count": 42,
   "id": "eb439418",
   "metadata": {
    "scrolled": true
   },
   "outputs": [
    {
     "data": {
      "text/plain": [
       "yfinance.Ticker object <RHM.DE>"
      ]
     },
     "execution_count": 42,
     "metadata": {},
     "output_type": "execute_result"
    }
   ],
   "source": [
    "#Create yfinance.ticker object\n",
    "nok = yf.Ticker(ticker = symbol)\n",
    "nok"
   ]
  },
  {
   "cell_type": "code",
   "execution_count": 43,
   "id": "2f0ef481",
   "metadata": {},
   "outputs": [
    {
     "data": {
      "text/plain": [
       "{'address1': 'Rheinmetall Platz 1',\n",
       " 'city': 'Düsseldorf',\n",
       " 'zip': '40476',\n",
       " 'country': 'Germany',\n",
       " 'phone': '49 211 473 01',\n",
       " 'fax': '49 211 473 4727',\n",
       " 'website': 'https://www.rheinmetall.com/en/rheinmetall_ag/home.php',\n",
       " 'industry': 'Aerospace & Defense',\n",
       " 'sector': 'Industrials',\n",
       " 'longBusinessSummary': 'Rheinmetall AG provides technologies to the mobility and security sectors worldwide. The company operates in five segments: Vehicle Systems, Weapon and Ammunition, Electronic Solutions, Sensors and Actuators, and Materials and Trade. The Vehicle Systems segment offers combat, support, logistics, and special vehicles, including armored tracked vehicles, CBRN protection systems, turret systems, and wheeled logistics and tactical vehicles. The Weapon and Ammunition segment provides threat-appropriate, effective and accurate firepower, and protection solutions, such as large and medium-caliber weapons and ammunition, protection systems, propellants and international projects and services. The Electronic Solutions segment offers a chain of systems network, such as sensors, networking platforms, automated connected effectors for soldiers, and cyberspace protection solutions, and training and simulation solutions. Its products include air defense systems; soldier systems; command, control, and reconnaissance systems; fire control systems; sensors; and simulations for the army, air force, navy, and civil applications. The Sensors and Actuators segment provides a portfolio of products comprising exhaust gas recirculation systems; throttle valves, control dampers, and exhaust flaps for electromotors; solenoid valves; actuators and valve train systems; oil, water, and vacuum pumps for passenger cars, commercial vehicles, and light and heavy-duty off-road applications; and industrial solutions. The Materials and Trade segment focuses on the development of system components for the basic motors, such as engine blocks, structural components, and cylinder heads; plain bearings, and bushes; and replacement parts. It also engages in the aftermarket activities. The company was formerly known as Rheinmetall Berlin AG and changed its name to Rheinmetall AG in 1996. Rheinmetall AG was founded in 1889 and is headquartered in Düsseldorf, Germany.',\n",
       " 'fullTimeEmployees': 21788,\n",
       " 'companyOfficers': [{'maxAge': 1,\n",
       "   'name': 'Mr. Armin Theodor Papperger',\n",
       "   'age': 59,\n",
       "   'title': 'Chairman of the Exec. Board & CEO',\n",
       "   'yearBorn': 1963,\n",
       "   'fiscalYear': 2022,\n",
       "   'totalPay': 3587000,\n",
       "   'exercisedValue': 0,\n",
       "   'unexercisedValue': 0},\n",
       "  {'maxAge': 1,\n",
       "   'name': 'Ms. Dagmar  Steinert',\n",
       "   'age': 58,\n",
       "   'title': 'Member of the Exec. Board & CFO',\n",
       "   'yearBorn': 1964,\n",
       "   'fiscalYear': 2022,\n",
       "   'totalPay': 112000,\n",
       "   'exercisedValue': 0,\n",
       "   'unexercisedValue': 0},\n",
       "  {'maxAge': 1,\n",
       "   'name': 'Mr. Peter Sebastian Krause',\n",
       "   'age': 62,\n",
       "   'title': 'Director of HR & Industrial Relations and Member of Exec. Board',\n",
       "   'yearBorn': 1960,\n",
       "   'fiscalYear': 2022,\n",
       "   'totalPay': 1646000,\n",
       "   'exercisedValue': 0,\n",
       "   'unexercisedValue': 0},\n",
       "  {'maxAge': 1,\n",
       "   'name': 'Mr. Franz-Bernd  Reich',\n",
       "   'title': 'Head of Investor Relations',\n",
       "   'exercisedValue': 0,\n",
       "   'unexercisedValue': 0},\n",
       "  {'maxAge': 1,\n",
       "   'name': 'Michael  Salzmann',\n",
       "   'title': 'Chief Compliance Officer',\n",
       "   'exercisedValue': 0,\n",
       "   'unexercisedValue': 0},\n",
       "  {'maxAge': 1,\n",
       "   'name': 'Dr. Rolf  Giebeler MPA (Harvard)',\n",
       "   'title': 'Representative Director of Law & Gen. Counsel',\n",
       "   'exercisedValue': 0,\n",
       "   'unexercisedValue': 0},\n",
       "  {'maxAge': 1,\n",
       "   'name': 'Mr. Peter  Rücker',\n",
       "   'title': 'Head of Corp. Communications',\n",
       "   'exercisedValue': 0,\n",
       "   'unexercisedValue': 0}],\n",
       " 'auditRisk': 3,\n",
       " 'boardRisk': 2,\n",
       " 'compensationRisk': 6,\n",
       " 'shareHolderRightsRisk': 10,\n",
       " 'overallRisk': 4,\n",
       " 'governanceEpochDate': 1680307200,\n",
       " 'compensationAsOfEpochDate': 1672444800,\n",
       " 'maxAge': 86400,\n",
       " 'priceHint': 2,\n",
       " 'previousClose': 267.4,\n",
       " 'open': 270.0,\n",
       " 'dayLow': 259.3,\n",
       " 'dayHigh': 274.0,\n",
       " 'regularMarketPreviousClose': 267.4,\n",
       " 'regularMarketOpen': 270.0,\n",
       " 'regularMarketDayLow': 259.3,\n",
       " 'regularMarketDayHigh': 274.0,\n",
       " 'dividendRate': 4.3,\n",
       " 'dividendYield': 0.0155,\n",
       " 'exDividendDate': 1683676800,\n",
       " 'payoutRatio': 0.3744,\n",
       " 'fiveYearAvgDividendYield': 2.2,\n",
       " 'beta': 0.885496,\n",
       " 'trailingPE': 31.457348,\n",
       " 'forwardPE': 14.205457,\n",
       " 'volume': 337868,\n",
       " 'regularMarketVolume': 337868,\n",
       " 'averageVolume': 287802,\n",
       " 'averageVolume10days': 254158,\n",
       " 'averageDailyVolume10Day': 254158,\n",
       " 'bid': 0.0,\n",
       " 'ask': 0.0,\n",
       " 'bidSize': 26700,\n",
       " 'askSize': 4500,\n",
       " 'marketCap': 11517841408,\n",
       " 'fiftyTwoWeekLow': 140.45,\n",
       " 'fiftyTwoWeekHigh': 281.3,\n",
       " 'priceToSalesTrailing12Months': 1.7968552,\n",
       " 'fiftyDayAverage': 258.656,\n",
       " 'twoHundredDayAverage': 200.7445,\n",
       " 'trailingAnnualDividendRate': 4.3,\n",
       " 'trailingAnnualDividendYield': 0.016080778,\n",
       " 'currency': 'EUR',\n",
       " 'enterpriseValue': 12061832192,\n",
       " 'profitMargins': 0.07317,\n",
       " 'floatShares': 43379931,\n",
       " 'sharesOutstanding': 43381700,\n",
       " 'heldPercentInsiders': 0.0,\n",
       " 'heldPercentInstitutions': 0.51941,\n",
       " 'impliedSharesOutstanding': 0,\n",
       " 'bookValue': 64.82,\n",
       " 'priceToBook': 4.095958,\n",
       " 'lastFiscalYearEnd': 1672444800,\n",
       " 'nextFiscalYearEnd': 1703980800,\n",
       " 'mostRecentQuarter': 1672444800,\n",
       " 'netIncomeToCommon': 461000000,\n",
       " 'trailingEps': 8.44,\n",
       " 'forwardEps': 18.69,\n",
       " 'pegRatio': 0.71,\n",
       " 'enterpriseToRevenue': 1.882,\n",
       " 'enterpriseToEbitda': 13.096,\n",
       " '52WeekChange': 0.25472593,\n",
       " 'SandP52WeekChange': 0.0033931732,\n",
       " 'lastDividendValue': 4.3,\n",
       " 'lastDividendDate': 1683676800,\n",
       " 'exchange': 'GER',\n",
       " 'quoteType': 'EQUITY',\n",
       " 'symbol': 'RHM.DE',\n",
       " 'underlyingSymbol': 'RHM.DE',\n",
       " 'shortName': 'RHEINMETALL AG',\n",
       " 'longName': 'Rheinmetall AG',\n",
       " 'firstTradeDateEpochUtc': 902300400,\n",
       " 'timeZoneFullName': 'Europe/Berlin',\n",
       " 'timeZoneShortName': 'CEST',\n",
       " 'uuid': 'e5a08521-1658-37cd-bee3-3b617afd3a1c',\n",
       " 'messageBoardId': 'finmb_8185600',\n",
       " 'gmtOffSetMilliseconds': 7200000,\n",
       " 'currentPrice': 265.5,\n",
       " 'targetHighPrice': 350.0,\n",
       " 'targetLowPrice': 233.0,\n",
       " 'targetMeanPrice': 293.4,\n",
       " 'targetMedianPrice': 294.5,\n",
       " 'recommendationMean': 1.8,\n",
       " 'recommendationKey': 'buy',\n",
       " 'numberOfAnalystOpinions': 14,\n",
       " 'totalCash': 698000000,\n",
       " 'totalCashPerShare': 16.09,\n",
       " 'ebitda': 921000000,\n",
       " 'totalDebt': 971000000,\n",
       " 'quickRatio': 0.753,\n",
       " 'currentRatio': 1.42,\n",
       " 'totalRevenue': 6409999872,\n",
       " 'debtToEquity': 31.495,\n",
       " 'revenuePerShare': 147.832,\n",
       " 'returnOnAssets': 0.05806,\n",
       " 'returnOnEquity': 0.18478,\n",
       " 'grossProfits': 3380000000,\n",
       " 'freeCashflow': -306624992,\n",
       " 'operatingCashflow': 174000000,\n",
       " 'grossMargins': 0.5273,\n",
       " 'ebitdaMargins': 0.14368,\n",
       " 'operatingMargins': 0.114659995,\n",
       " 'financialCurrency': 'EUR',\n",
       " 'trailingPegRatio': None}"
      ]
     },
     "execution_count": 43,
     "metadata": {},
     "output_type": "execute_result"
    }
   ],
   "source": [
    "nok_info = nok.get_info()\n",
    "nok_info"
   ]
  },
  {
   "cell_type": "markdown",
   "id": "d5e714c1",
   "metadata": {},
   "source": [
    "# Import data  to .csv file and filter unwanted key-values"
   ]
  },
  {
   "cell_type": "code",
   "execution_count": 44,
   "id": "0d8aebf0",
   "metadata": {},
   "outputs": [
    {
     "data": {
      "text/html": [
       "<div>\n",
       "<style scoped>\n",
       "    .dataframe tbody tr th:only-of-type {\n",
       "        vertical-align: middle;\n",
       "    }\n",
       "\n",
       "    .dataframe tbody tr th {\n",
       "        vertical-align: top;\n",
       "    }\n",
       "\n",
       "    .dataframe thead th {\n",
       "        text-align: right;\n",
       "    }\n",
       "</style>\n",
       "<table border=\"1\" class=\"dataframe\">\n",
       "  <thead>\n",
       "    <tr style=\"text-align: right;\">\n",
       "      <th></th>\n",
       "      <th>industry</th>\n",
       "      <th>sector</th>\n",
       "      <th>fullTimeEmployees</th>\n",
       "      <th>auditRisk</th>\n",
       "      <th>boardRisk</th>\n",
       "      <th>compensationRisk</th>\n",
       "      <th>shareHolderRightsRisk</th>\n",
       "      <th>overallRisk</th>\n",
       "      <th>governanceEpochDate</th>\n",
       "      <th>compensationAsOfEpochDate</th>\n",
       "      <th>...</th>\n",
       "      <th>returnOnAssets</th>\n",
       "      <th>returnOnEquity</th>\n",
       "      <th>grossProfits</th>\n",
       "      <th>freeCashflow</th>\n",
       "      <th>operatingCashflow</th>\n",
       "      <th>grossMargins</th>\n",
       "      <th>ebitdaMargins</th>\n",
       "      <th>operatingMargins</th>\n",
       "      <th>financialCurrency</th>\n",
       "      <th>trailingPegRatio</th>\n",
       "    </tr>\n",
       "  </thead>\n",
       "  <tbody>\n",
       "    <tr>\n",
       "      <th>0</th>\n",
       "      <td>Aerospace &amp; Defense</td>\n",
       "      <td>Industrials</td>\n",
       "      <td>21788</td>\n",
       "      <td>3</td>\n",
       "      <td>2</td>\n",
       "      <td>6</td>\n",
       "      <td>10</td>\n",
       "      <td>4</td>\n",
       "      <td>1680307200</td>\n",
       "      <td>1672444800</td>\n",
       "      <td>...</td>\n",
       "      <td>0.05806</td>\n",
       "      <td>0.18478</td>\n",
       "      <td>3380000000</td>\n",
       "      <td>-306624992</td>\n",
       "      <td>174000000</td>\n",
       "      <td>0.5273</td>\n",
       "      <td>0.14368</td>\n",
       "      <td>0.11466</td>\n",
       "      <td>EUR</td>\n",
       "      <td>None</td>\n",
       "    </tr>\n",
       "  </tbody>\n",
       "</table>\n",
       "<p>1 rows × 106 columns</p>\n",
       "</div>"
      ],
      "text/plain": [
       "              industry       sector  fullTimeEmployees  auditRisk  boardRisk  \\\n",
       "0  Aerospace & Defense  Industrials              21788          3          2   \n",
       "\n",
       "   compensationRisk  shareHolderRightsRisk  overallRisk  governanceEpochDate  \\\n",
       "0                 6                     10            4           1680307200   \n",
       "\n",
       "   compensationAsOfEpochDate  ...  returnOnAssets  returnOnEquity  \\\n",
       "0                 1672444800  ...         0.05806         0.18478   \n",
       "\n",
       "   grossProfits  freeCashflow  operatingCashflow  grossMargins  ebitdaMargins  \\\n",
       "0    3380000000    -306624992          174000000        0.5273        0.14368   \n",
       "\n",
       "   operatingMargins  financialCurrency  trailingPegRatio  \n",
       "0           0.11466                EUR              None  \n",
       "\n",
       "[1 rows x 106 columns]"
      ]
     },
     "execution_count": 44,
     "metadata": {},
     "output_type": "execute_result"
    }
   ],
   "source": [
    "filteredValues = ['longBusinessSummary', 'companyOfficers', 'address1', 'city', 'country', 'zip', 'phone', 'fax','website', 'maxAge']\n",
    "d = {k: [v] for k, v in nok_info.items() if k not in filteredValues }\n",
    "df = pd.DataFrame.from_dict(data=d, orient='columns')\n",
    "df.to_csv(f'{csv_file}.csv', index=False)\n",
    "df \n"
   ]
  },
  {
   "cell_type": "code",
   "execution_count": 45,
   "id": "83d188be",
   "metadata": {},
   "outputs": [
    {
     "data": {
      "text/plain": [
       "{'lappu': 'Rheinmetall AG',\n",
       " 'P/E': 31.457348,\n",
       " 'P/B': 4.095958,\n",
       " 'P/S': 1.7968552,\n",
       " 'EPS': 8.44,\n",
       " 'EV/EBITDA': 13.096,\n",
       " 'EV/EBIT': 13.096,\n",
       " 'EV/S': 1.882,\n",
       " 'Markkina-arvo': 11.517841408}"
      ]
     },
     "execution_count": 45,
     "metadata": {},
     "output_type": "execute_result"
    }
   ],
   "source": [
    "important_values = {\"lappu\" : nok_info['longName'],\"P/E\" : nok_info['trailingPE'], \"P/B\" : nok_info['priceToBook'], \"P/S\" : nok_info['priceToSalesTrailing12Months'], \"EPS\" : nok_info['trailingEps'], \"EV/EBITDA\" : nok_info['enterpriseToEbitda'], \"EV/EBIT\" : nok_info['enterpriseToEbitda'], \"EV/S\" : nok_info['enterpriseToRevenue'], \"Markkina-arvo\" : nok_info['marketCap']/1000000000}\n",
    "important_values"
   ]
  },
  {
   "cell_type": "code",
   "execution_count": 46,
   "id": "0e0d1ff4",
   "metadata": {},
   "outputs": [
    {
     "data": {
      "text/plain": [
       "yfinance.Ticker object <RHM.DE>"
      ]
     },
     "execution_count": 46,
     "metadata": {},
     "output_type": "execute_result"
    }
   ],
   "source": [
    "#Load financial statement\n",
    "nok"
   ]
  },
  {
   "cell_type": "code",
   "execution_count": 40,
   "id": "fdb35e56",
   "metadata": {},
   "outputs": [],
   "source": [
    "# import json\n",
    "# bs = Ticker(symbol).balance_sheet().tail(1)\n",
    "# bs\n",
    "# print(bs)\n"
   ]
  },
  {
   "cell_type": "code",
   "execution_count": null,
   "id": "8a289465",
   "metadata": {},
   "outputs": [],
   "source": []
  },
  {
   "cell_type": "code",
   "execution_count": null,
   "id": "d7de556e",
   "metadata": {},
   "outputs": [],
   "source": []
  },
  {
   "cell_type": "code",
   "execution_count": null,
   "metadata": {},
   "outputs": [],
   "source": []
  }
 ],
 "metadata": {
  "kernelspec": {
   "display_name": "Python 3 (ipykernel)",
   "language": "python",
   "name": "python3"
  },
  "language_info": {
   "codemirror_mode": {
    "name": "ipython",
    "version": 3
   },
   "file_extension": ".py",
   "mimetype": "text/x-python",
   "name": "python",
   "nbconvert_exporter": "python",
   "pygments_lexer": "ipython3",
   "version": "3.11.3"
  }
 },
 "nbformat": 4,
 "nbformat_minor": 5
}
