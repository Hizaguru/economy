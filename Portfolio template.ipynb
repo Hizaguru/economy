{
 "cells": [
  {
   "attachments": {},
   "cell_type": "markdown",
   "id": "b182b21c",
   "metadata": {},
   "source": [
    "# Import libraries"
   ]
  },
  {
   "cell_type": "code",
   "execution_count": 1,
   "id": "86fe97b7",
   "metadata": {},
   "outputs": [],
   "source": [
    "\n",
    "import yfinance as yf\n",
    "import pandas as pd\n",
    "import matplotlib.pyplot as plt\n",
    "from yahooquery import Ticker\n",
    "import pandas as pd\n",
    "from colorama import Fore, Style\n",
    "import csv\n",
    "from yahoo_fin import stock_info as si\n",
    "import json\n",
    "plt.style.use(\"seaborn-v0_8\")"
   ]
  },
  {
   "attachments": {},
   "cell_type": "markdown",
   "id": "e2f05c67",
   "metadata": {},
   "source": [
    "Add Ticker"
   ]
  },
  {
   "cell_type": "code",
   "execution_count": 65,
   "id": "0affe728",
   "metadata": {},
   "outputs": [],
   "source": [
    "symbol = \"LMT\"\n",
    "csv_file = symbol"
   ]
  },
  {
   "cell_type": "code",
   "execution_count": 66,
   "id": "eb439418",
   "metadata": {
    "scrolled": true
   },
   "outputs": [
    {
     "data": {
      "text/plain": [
       "yfinance.Ticker object <LMT>"
      ]
     },
     "execution_count": 66,
     "metadata": {},
     "output_type": "execute_result"
    }
   ],
   "source": [
    "#Create yfinance.ticker object\n",
    "nok = yf.Ticker(ticker = symbol)\n",
    "nok"
   ]
  },
  {
   "cell_type": "code",
   "execution_count": 67,
   "id": "2f0ef481",
   "metadata": {},
   "outputs": [
    {
     "data": {
      "text/plain": [
       "{'address1': '6801 Rockledge Drive',\n",
       " 'city': 'Bethesda',\n",
       " 'state': 'MD',\n",
       " 'zip': '20817',\n",
       " 'country': 'United States',\n",
       " 'phone': '301 897 6000',\n",
       " 'website': 'https://www.lockheedmartin.com',\n",
       " 'industry': 'Aerospace & Defense',\n",
       " 'sector': 'Industrials',\n",
       " 'longBusinessSummary': 'Lockheed Martin Corporation, a security and aerospace company, engages in the research, design, development, manufacture, integration, and sustainment of technology systems, products, and services worldwide. It operates through four segments: Aeronautics, Missiles and Fire Control, Rotary and Mission Systems, and Space. The Aeronautics segment offers combat and air mobility aircraft, unmanned air vehicles, and related technologies. The Missiles and Fire Control segment provides air and missile defense systems; tactical missiles and air-to-ground precision strike weapon systems; logistics; fire control systems; mission operations support, readiness, engineering support, and integration services; manned and unmanned ground vehicles; and energy management solutions. The Rotary and Mission Systems segment offers military and commercial helicopters, surface ships, sea and land-based missile defense systems, radar systems, sea and air-based mission and combat systems, command and control mission solutions, cyber solutions, and simulation and training solutions. The Space segment offers satellites; space transportation systems; strategic, advanced strike, and defensive systems; and classified systems and services in support of national security systems. This segment also provides network-enabled situational awareness and integrates space and ground global systems to help its customers gather, analyze, and securely distribute critical intelligence data. It serves primarily serves the U.S. government, as well as foreign military sales contracted through the U.S. government. Lockheed Martin Corporation was founded in 1912 and is headquartered in Bethesda, Maryland.',\n",
       " 'fullTimeEmployees': 116000,\n",
       " 'companyOfficers': [{'maxAge': 1,\n",
       "   'name': 'Mr. James D. Taiclet Jr.',\n",
       "   'age': 61,\n",
       "   'title': 'Chairman, Pres & CEO',\n",
       "   'yearBorn': 1961,\n",
       "   'fiscalYear': 2022,\n",
       "   'totalPay': 11396651,\n",
       "   'exercisedValue': 0,\n",
       "   'unexercisedValue': 0},\n",
       "  {'maxAge': 1,\n",
       "   'name': 'Mr. Jesus  Malave Jr.',\n",
       "   'age': 53,\n",
       "   'title': 'Chief Financial Officer',\n",
       "   'yearBorn': 1969,\n",
       "   'fiscalYear': 2022,\n",
       "   'totalPay': 3410479,\n",
       "   'exercisedValue': 0,\n",
       "   'unexercisedValue': 0},\n",
       "  {'maxAge': 1,\n",
       "   'name': 'Mr. Frank A. St. John',\n",
       "   'age': 55,\n",
       "   'title': 'Chief Operating Officer',\n",
       "   'yearBorn': 1967,\n",
       "   'fiscalYear': 2022,\n",
       "   'totalPay': 4706588,\n",
       "   'exercisedValue': 0,\n",
       "   'unexercisedValue': 0},\n",
       "  {'maxAge': 1,\n",
       "   'name': 'Ms. Maryanne R. Lavan',\n",
       "   'age': 63,\n",
       "   'title': 'Sr. VP, Gen. Counsel & Corp. Sec.',\n",
       "   'yearBorn': 1959,\n",
       "   'fiscalYear': 2022,\n",
       "   'totalPay': 3213729,\n",
       "   'exercisedValue': 0,\n",
       "   'unexercisedValue': 0},\n",
       "  {'maxAge': 1,\n",
       "   'name': 'Mr. Gregory M. Ulmer',\n",
       "   'age': 57,\n",
       "   'title': 'Exec. VP of Aeronautics',\n",
       "   'yearBorn': 1965,\n",
       "   'fiscalYear': 2022,\n",
       "   'totalPay': 2978184,\n",
       "   'exercisedValue': 0,\n",
       "   'unexercisedValue': 0},\n",
       "  {'maxAge': 1,\n",
       "   'name': 'Mr. H. Edward Paul III',\n",
       "   'age': 46,\n",
       "   'title': 'Chief Accounting Officer, VP & Controller',\n",
       "   'yearBorn': 1976,\n",
       "   'exercisedValue': 0,\n",
       "   'unexercisedValue': 0},\n",
       "  {'maxAge': 1,\n",
       "   'name': 'Mr. Rodney A. Makoske',\n",
       "   'title': 'Chief Engineer and Sr. VP of Engineering & Technology',\n",
       "   'exercisedValue': 0,\n",
       "   'unexercisedValue': 0},\n",
       "  {'maxAge': 1,\n",
       "   'name': 'Ms. Yvonne O. Hodge',\n",
       "   'title': 'Sr. VP of Enterprise Bus. & Digital Transformation and CIO',\n",
       "   'exercisedValue': 0,\n",
       "   'unexercisedValue': 0},\n",
       "  {'maxAge': 1,\n",
       "   'name': 'Ms. Maria Ricciardone Lee',\n",
       "   'age': 46,\n",
       "   'title': 'VP of Investor Relations',\n",
       "   'yearBorn': 1976,\n",
       "   'exercisedValue': 0,\n",
       "   'unexercisedValue': 0},\n",
       "  {'maxAge': 1,\n",
       "   'name': 'Mr. Dean  Acosta',\n",
       "   'title': 'Sr. VP & Chief Communications Officer',\n",
       "   'exercisedValue': 0,\n",
       "   'unexercisedValue': 0}],\n",
       " 'auditRisk': 3,\n",
       " 'boardRisk': 4,\n",
       " 'compensationRisk': 1,\n",
       " 'shareHolderRightsRisk': 7,\n",
       " 'overallRisk': 3,\n",
       " 'governanceEpochDate': 1680307200,\n",
       " 'compensationAsOfEpochDate': 1672444800,\n",
       " 'maxAge': 86400,\n",
       " 'priceHint': 2,\n",
       " 'previousClose': 464.45,\n",
       " 'open': 465.04,\n",
       " 'dayLow': 464.55,\n",
       " 'dayHigh': 471.0499,\n",
       " 'regularMarketPreviousClose': 464.45,\n",
       " 'regularMarketOpen': 465.04,\n",
       " 'regularMarketDayLow': 464.55,\n",
       " 'regularMarketDayHigh': 471.0499,\n",
       " 'dividendRate': 12.0,\n",
       " 'dividendYield': 0.025799999,\n",
       " 'exDividendDate': 1685491200,\n",
       " 'payoutRatio': 0.53139997,\n",
       " 'fiveYearAvgDividendYield': 2.6,\n",
       " 'beta': 0.666782,\n",
       " 'trailingPE': 21.553368,\n",
       " 'forwardPE': 16.75009,\n",
       " 'volume': 766996,\n",
       " 'regularMarketVolume': 766996,\n",
       " 'averageVolume': 1324363,\n",
       " 'averageVolume10days': 1293180,\n",
       " 'averageDailyVolume10Day': 1293180,\n",
       " 'bid': 470.06,\n",
       " 'ask': 470.44,\n",
       " 'bidSize': 1200,\n",
       " 'askSize': 1300,\n",
       " 'marketCap': 119753744384,\n",
       " 'fiftyTwoWeekLow': 373.67,\n",
       " 'fiftyTwoWeekHigh': 508.1,\n",
       " 'priceToSalesTrailing12Months': 1.8104457,\n",
       " 'fiftyDayAverage': 478.9892,\n",
       " 'twoHundredDayAverage': 454.6454,\n",
       " 'trailingAnnualDividendRate': 11.6,\n",
       " 'trailingAnnualDividendYield': 0.024975779,\n",
       " 'currency': 'USD',\n",
       " 'enterpriseValue': 130783150080,\n",
       " 'profitMargins': 0.08599,\n",
       " 'floatShares': 215140576,\n",
       " 'sharesOutstanding': 254519008,\n",
       " 'sharesShort': 1912379,\n",
       " 'sharesShortPriorMonth': 2756205,\n",
       " 'sharesShortPreviousMonthDate': 1678838400,\n",
       " 'dateShortInterest': 1681430400,\n",
       " 'sharesPercentSharesOut': 0.0076,\n",
       " 'heldPercentInsiders': 0.00068000006,\n",
       " 'heldPercentInstitutions': 0.78057,\n",
       " 'shortRatio': 1.28,\n",
       " 'shortPercentOfFloat': 0.0089,\n",
       " 'impliedSharesOutstanding': 0,\n",
       " 'bookValue': 37.976,\n",
       " 'priceToBook': 12.389667,\n",
       " 'lastFiscalYearEnd': 1672444800,\n",
       " 'nextFiscalYearEnd': 1703980800,\n",
       " 'mostRecentQuarter': 1679788800,\n",
       " 'earningsQuarterlyGrowth': -0.025,\n",
       " 'netIncomeToCommon': 5688000000,\n",
       " 'trailingEps': 21.83,\n",
       " 'forwardEps': 28.09,\n",
       " 'pegRatio': 1.57,\n",
       " 'lastSplitFactor': '2:1',\n",
       " 'lastSplitDate': 915408000,\n",
       " 'enterpriseToRevenue': 1.977,\n",
       " 'enterpriseToEbitda': 15.071,\n",
       " '52WeekChange': 0.07808542,\n",
       " 'SandP52WeekChange': 0.0033931732,\n",
       " 'lastDividendValue': 3.0,\n",
       " 'lastDividendDate': 1677542400,\n",
       " 'exchange': 'NYQ',\n",
       " 'quoteType': 'EQUITY',\n",
       " 'symbol': 'LMT',\n",
       " 'underlyingSymbol': 'LMT',\n",
       " 'shortName': 'Lockheed Martin Corporation',\n",
       " 'longName': 'Lockheed Martin Corporation',\n",
       " 'firstTradeDateEpochUtc': 221149800,\n",
       " 'timeZoneFullName': 'America/New_York',\n",
       " 'timeZoneShortName': 'EDT',\n",
       " 'uuid': 'c88f1145-2517-3402-b701-ff8fcf649d0c',\n",
       " 'messageBoardId': 'finmb_285827',\n",
       " 'gmtOffSetMilliseconds': -14400000,\n",
       " 'currentPrice': 470.51,\n",
       " 'targetHighPrice': 579.0,\n",
       " 'targetLowPrice': 371.0,\n",
       " 'targetMeanPrice': 509.24,\n",
       " 'targetMedianPrice': 514.0,\n",
       " 'recommendationMean': 2.7,\n",
       " 'recommendationKey': 'hold',\n",
       " 'numberOfAnalystOpinions': 21,\n",
       " 'totalCash': 2440000000,\n",
       " 'totalCashPerShare': 9.635,\n",
       " 'ebitda': 8677999616,\n",
       " 'totalDebt': 15600000000,\n",
       " 'quickRatio': 1.072,\n",
       " 'currentRatio': 1.304,\n",
       " 'totalRevenue': 66146000896,\n",
       " 'debtToEquity': 161.725,\n",
       " 'revenuePerShare': 254.114,\n",
       " 'returnOnAssets': 0.0887,\n",
       " 'returnOnEquity': 0.57899,\n",
       " 'grossProfits': 8387000000,\n",
       " 'freeCashflow': 4343625216,\n",
       " 'operatingCashflow': 7955999744,\n",
       " 'earningsGrowth': 0.026,\n",
       " 'revenueGrowth': 0.011,\n",
       " 'grossMargins': 0.12887,\n",
       " 'ebitdaMargins': 0.13119,\n",
       " 'operatingMargins': 0.113850005,\n",
       " 'financialCurrency': 'USD',\n",
       " 'trailingPegRatio': 3.6084}"
      ]
     },
     "execution_count": 67,
     "metadata": {},
     "output_type": "execute_result"
    }
   ],
   "source": [
    "nok_info = nok.get_info()\n",
    "nok_info"
   ]
  },
  {
   "attachments": {},
   "cell_type": "markdown",
   "id": "d5e714c1",
   "metadata": {},
   "source": [
    "# Import data  to .csv file and filter unwanted key-values"
   ]
  },
  {
   "cell_type": "code",
   "execution_count": 68,
   "id": "0d8aebf0",
   "metadata": {},
   "outputs": [
    {
     "data": {
      "text/html": [
       "<div>\n",
       "<style scoped>\n",
       "    .dataframe tbody tr th:only-of-type {\n",
       "        vertical-align: middle;\n",
       "    }\n",
       "\n",
       "    .dataframe tbody tr th {\n",
       "        vertical-align: top;\n",
       "    }\n",
       "\n",
       "    .dataframe thead th {\n",
       "        text-align: right;\n",
       "    }\n",
       "</style>\n",
       "<table border=\"1\" class=\"dataframe\">\n",
       "  <thead>\n",
       "    <tr style=\"text-align: right;\">\n",
       "      <th></th>\n",
       "      <th>state</th>\n",
       "      <th>industry</th>\n",
       "      <th>sector</th>\n",
       "      <th>fullTimeEmployees</th>\n",
       "      <th>auditRisk</th>\n",
       "      <th>boardRisk</th>\n",
       "      <th>compensationRisk</th>\n",
       "      <th>shareHolderRightsRisk</th>\n",
       "      <th>overallRisk</th>\n",
       "      <th>governanceEpochDate</th>\n",
       "      <th>...</th>\n",
       "      <th>grossProfits</th>\n",
       "      <th>freeCashflow</th>\n",
       "      <th>operatingCashflow</th>\n",
       "      <th>earningsGrowth</th>\n",
       "      <th>revenueGrowth</th>\n",
       "      <th>grossMargins</th>\n",
       "      <th>ebitdaMargins</th>\n",
       "      <th>operatingMargins</th>\n",
       "      <th>financialCurrency</th>\n",
       "      <th>trailingPegRatio</th>\n",
       "    </tr>\n",
       "  </thead>\n",
       "  <tbody>\n",
       "    <tr>\n",
       "      <th>0</th>\n",
       "      <td>MD</td>\n",
       "      <td>Aerospace &amp; Defense</td>\n",
       "      <td>Industrials</td>\n",
       "      <td>116000</td>\n",
       "      <td>3</td>\n",
       "      <td>4</td>\n",
       "      <td>1</td>\n",
       "      <td>7</td>\n",
       "      <td>3</td>\n",
       "      <td>1680307200</td>\n",
       "      <td>...</td>\n",
       "      <td>8387000000</td>\n",
       "      <td>4343625216</td>\n",
       "      <td>7955999744</td>\n",
       "      <td>0.026</td>\n",
       "      <td>0.011</td>\n",
       "      <td>0.12887</td>\n",
       "      <td>0.13119</td>\n",
       "      <td>0.11385</td>\n",
       "      <td>USD</td>\n",
       "      <td>3.6084</td>\n",
       "    </tr>\n",
       "  </tbody>\n",
       "</table>\n",
       "<p>1 rows × 119 columns</p>\n",
       "</div>"
      ],
      "text/plain": [
       "  state             industry       sector  fullTimeEmployees  auditRisk  \\\n",
       "0    MD  Aerospace & Defense  Industrials             116000          3   \n",
       "\n",
       "   boardRisk  compensationRisk  shareHolderRightsRisk  overallRisk  \\\n",
       "0          4                 1                      7            3   \n",
       "\n",
       "   governanceEpochDate  ...  grossProfits  freeCashflow  operatingCashflow  \\\n",
       "0           1680307200  ...    8387000000    4343625216         7955999744   \n",
       "\n",
       "   earningsGrowth  revenueGrowth  grossMargins  ebitdaMargins  \\\n",
       "0           0.026          0.011       0.12887        0.13119   \n",
       "\n",
       "   operatingMargins  financialCurrency  trailingPegRatio  \n",
       "0           0.11385                USD            3.6084  \n",
       "\n",
       "[1 rows x 119 columns]"
      ]
     },
     "execution_count": 68,
     "metadata": {},
     "output_type": "execute_result"
    }
   ],
   "source": [
    "filteredValues = ['longBusinessSummary', 'companyOfficers', 'address1', 'city', 'country', 'zip', 'phone', 'fax','website', 'maxAge']\n",
    "d = {k: [v] for k, v in nok_info.items() if k not in filteredValues }\n",
    "df = pd.DataFrame.from_dict(data=d, orient='columns')\n",
    "df.to_csv(f'{csv_file}.csv', index=False)\n",
    "df \n"
   ]
  },
  {
   "cell_type": "code",
   "execution_count": 69,
   "id": "83d188be",
   "metadata": {},
   "outputs": [
    {
     "data": {
      "text/plain": [
       "{'lappu': 'Lockheed Martin Corporation',\n",
       " 'P/E': 21.553368,\n",
       " 'P/B': 12.389667,\n",
       " 'P/S': 1.8104457,\n",
       " 'EPS': 21.83,\n",
       " 'EV/EBITDA': 15.071,\n",
       " 'EV/EBIT': 15.071,\n",
       " 'EV/S': 1.977,\n",
       " 'Markkina-arvo': 119.753744384}"
      ]
     },
     "execution_count": 69,
     "metadata": {},
     "output_type": "execute_result"
    }
   ],
   "source": [
    "important_values = {\"lappu\" : nok_info['longName'],\"P/E\" : nok_info['trailingPE'], \"P/B\" : nok_info['priceToBook'], \"P/S\" : nok_info['priceToSalesTrailing12Months'], \"EPS\" : nok_info['trailingEps'], \"EV/EBITDA\" : nok_info['enterpriseToEbitda'], \"EV/EBIT\" : nok_info['enterpriseToEbitda'], \"EV/S\" : nok_info['enterpriseToRevenue'], \"Markkina-arvo\" : nok_info['marketCap']/1000000000}\n",
    "important_values"
   ]
  },
  {
   "cell_type": "code",
   "execution_count": 70,
   "id": "0e0d1ff4",
   "metadata": {},
   "outputs": [
    {
     "data": {
      "text/plain": [
       "yfinance.Ticker object <LMT>"
      ]
     },
     "execution_count": 70,
     "metadata": {},
     "output_type": "execute_result"
    }
   ],
   "source": [
    "#Load financial statement\n",
    "nok"
   ]
  },
  {
   "cell_type": "code",
   "execution_count": 71,
   "id": "fdb35e56",
   "metadata": {},
   "outputs": [],
   "source": [
    "# import json\n",
    "# bs = Ticker(symbol).balance_sheet().tail(1)\n",
    "# bs\n",
    "# print(bs)\n"
   ]
  },
  {
   "cell_type": "code",
   "execution_count": null,
   "id": "8a289465",
   "metadata": {},
   "outputs": [],
   "source": []
  },
  {
   "cell_type": "code",
   "execution_count": null,
   "id": "d7de556e",
   "metadata": {},
   "outputs": [],
   "source": []
  },
  {
   "cell_type": "code",
   "execution_count": null,
   "metadata": {},
   "outputs": [],
   "source": []
  }
 ],
 "metadata": {
  "kernelspec": {
   "display_name": "Python 3 (ipykernel)",
   "language": "python",
   "name": "python3"
  },
  "language_info": {
   "codemirror_mode": {
    "name": "ipython",
    "version": 3
   },
   "file_extension": ".py",
   "mimetype": "text/x-python",
   "name": "python",
   "nbconvert_exporter": "python",
   "pygments_lexer": "ipython3",
   "version": "3.11.3"
  }
 },
 "nbformat": 4,
 "nbformat_minor": 5
}
