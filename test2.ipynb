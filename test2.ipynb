{
 "cells": [
  {
   "cell_type": "code",
   "execution_count": 16,
   "metadata": {},
   "outputs": [],
   "source": [
    "import yfinance as yf\n",
    "import pandas as pd\n",
    "\n",
    "tickers = [\"NOK\", \"REMEDY.HE\", \"KEMPOWR.HE\", \"LMT\", \"RHM.DE\", \"SAAB-B.ST\", \"GOOG\", \"WITH.HE\"]\n",
    "fileName = \"Portfolio4\"\n",
    "\n",
    "\n"
   ]
  },
  {
   "cell_type": "code",
   "execution_count": 17,
   "metadata": {},
   "outputs": [],
   "source": [
    "# Create an empty DataFrame to store the information for all tickers\n",
    "df = pd.DataFrame()\n",
    "\n"
   ]
  },
  {
   "cell_type": "code",
   "execution_count": 18,
   "metadata": {},
   "outputs": [],
   "source": [
    "# Loop through each ticker and retrieve the information\n",
    "for symbol in tickers:\n",
    "    stock = yf.Ticker(ticker=symbol)\n",
    "    stock_info = stock.get_info()\n",
    "    \n",
    "    # Filter out unwanted values from the dictionary and append to the DataFrame\n",
    "    wanted_values = ['website', 'longName', 'industry', 'sector', 'fullTimeEmployees', 'auditRisk', 'boardRisk', 'previousClose', 'open', 'dayLow', 'dayHigh', 'dividendRate', 'dividendYield', 'payoutRatio', 'trailinngPE', 'forwardPE', 'marketCap', 'priceToSalesTrailing12Months', 'profitMargins', 'priceToBook', 'trailingEps', 'freeCashflow']\n",
    "    d = {}\n",
    "    for k, v in stock_info.items():\n",
    "        if k in wanted_values:\n",
    "            if k == 'marketCap':\n",
    "                v *= 0.000000001\n",
    "            elif k== 'freeCashflow':\n",
    "                v *= 0.000001\n",
    "            elif k in ['previousClose', 'marketCap', 'open', 'dayLow', 'dayHigh', 'dividendRate'] and stock_info.get('currency') == 'EUR':\n",
    "                v /= 11.2\n",
    "            d[k] = [v]    \n",
    "    df_temp = pd.DataFrame.from_dict(data=d, orient='columns')\n",
    "    df_temp['symbol'] = symbol  # Add a column for the ticker symbol\n",
    "    df = pd.concat([df, df_temp], ignore_index=True)\n",
    "\n"
   ]
  },
  {
   "cell_type": "code",
   "execution_count": 19,
   "metadata": {},
   "outputs": [
    {
     "name": "stdout",
     "output_type": "stream",
     "text": [
      "                                             website  \\\n",
      "0                              https://www.nokia.com   \n",
      "1                        https://www.remedygames.com   \n",
      "2                               https://kempower.com   \n",
      "3                     https://www.lockheedmartin.com   \n",
      "4  https://www.rheinmetall.com/en/rheinmetall_ag/...   \n",
      "5                          https://www.saabgroup.com   \n",
      "6                                https://www.abc.xyz   \n",
      "7                         https://www.withsecure.com   \n",
      "\n",
      "                         industry                  sector  fullTimeEmployees  \\\n",
      "0         Communication Equipment              Technology              86896   \n",
      "1  Electronic Gaming & Multimedia  Communication Services                334   \n",
      "2    Electrical Equipment & Parts             Industrials                375   \n",
      "3             Aerospace & Defense             Industrials             116000   \n",
      "4             Aerospace & Defense             Industrials              21788   \n",
      "5             Aerospace & Defense             Industrials              19651   \n",
      "6  Internet Content & Information  Communication Services             190711   \n",
      "7         Software—Infrastructure              Technology               1245   \n",
      "\n",
      "   auditRisk  boardRisk  previousClose     open  dayLow  dayHigh  ...  \\\n",
      "0        1.0        3.0          4.020    4.050    4.04     4.13  ...   \n",
      "1        NaN        NaN         24.150   24.350   24.25    25.25  ...   \n",
      "2        NaN        NaN         33.540   33.520   33.50    34.50  ...   \n",
      "3        4.0        6.0        451.930  452.690  452.08   457.10  ...   \n",
      "4        2.0        2.0        261.700  264.600  259.40   266.40  ...   \n",
      "5        3.0        8.0        590.800  591.600  581.80   595.40  ...   \n",
      "6        6.0        2.0        105.210  105.320  104.74   106.43  ...   \n",
      "7        2.0        5.0          1.454    1.479    1.46     1.48  ...   \n",
      "\n",
      "   payoutRatio    forwardPE    marketCap  priceToSalesTrailing12Months  \\\n",
      "0       0.1041     8.387755    23.113654                      0.909199   \n",
      "1          NaN -1257.500000     0.338773                      7.772162   \n",
      "2       0.0000    67.600000     1.873139                     18.072865   \n",
      "3       0.5314    16.286737   115.943588                      1.752843   \n",
      "4       0.3744    14.230769    11.556884                           NaN   \n",
      "5       0.2760    23.567180    78.883799                      1.781759   \n",
      "6       0.0000    17.131450  1344.214532                      4.722972   \n",
      "7       0.0000   -73.900000     0.259940                      1.889499   \n",
      "\n",
      "   profitMargins  priceToBook  trailingEps                     longName  \\\n",
      "0        0.16981     1.075635         0.84                    Nokia Oyj   \n",
      "1       -0.03960     3.828006        -0.13     Remedy Entertainment Oyj   \n",
      "2        0.03428    18.622590         0.07                 Kempower Oyj   \n",
      "3        0.08599    11.995470        21.96  Lockheed Martin Corporation   \n",
      "4        0.00000     4.109843         8.82               Rheinmetall AG   \n",
      "5        0.05812     2.635954        19.86               Saab AB (publ)   \n",
      "6        0.20585     5.179450         4.51                Alphabet Inc.   \n",
      "7        3.07393     2.013624        -0.20               WithSecure Oyj   \n",
      "\n",
      "   freeCashflow      symbol  \n",
      "0    206.000000         NOK  \n",
      "1      0.510125   REMEDY.HE  \n",
      "2    -14.113637  KEMPOWR.HE  \n",
      "3   4343.625216         LMT  \n",
      "4           NaN      RHM.DE  \n",
      "5   4922.625024   SAAB-B.ST  \n",
      "6  55862.624256        GOOG  \n",
      "7     -6.796250     WITH.HE  \n",
      "\n",
      "[8 rows x 22 columns]\n"
     ]
    }
   ],
   "source": [
    "# Save the DataFrame to a CSV file with a filename based on the tickers\n",
    "csv_file = '_'.join(tickers)\n",
    "df.to_csv(f'{fileName}.csv', index=False)\n",
    "\n",
    "print(df)"
   ]
  },
  {
   "cell_type": "code",
   "execution_count": null,
   "metadata": {},
   "outputs": [],
   "source": []
  }
 ],
 "metadata": {
  "kernelspec": {
   "display_name": "finance",
   "language": "python",
   "name": "python3"
  },
  "language_info": {
   "codemirror_mode": {
    "name": "ipython",
    "version": 3
   },
   "file_extension": ".py",
   "mimetype": "text/x-python",
   "name": "python",
   "nbconvert_exporter": "python",
   "pygments_lexer": "ipython3",
   "version": "3.11.3"
  },
  "orig_nbformat": 4
 },
 "nbformat": 4,
 "nbformat_minor": 2
}
