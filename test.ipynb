{
 "cells": [
  {
   "cell_type": "code",
   "execution_count": 13,
   "metadata": {},
   "outputs": [
    {
     "name": "stdout",
     "output_type": "stream",
     "text": [
      "                         industry                  sector  fullTimeEmployees  \\\n",
      "0         Communication Equipment              Technology              86896   \n",
      "1  Electronic Gaming & Multimedia  Communication Services                334   \n",
      "2    Electrical Equipment & Parts             Industrials                375   \n",
      "3             Aerospace & Defense             Industrials             116000   \n",
      "4             Aerospace & Defense             Industrials              21788   \n",
      "5             Aerospace & Defense             Industrials              19651   \n",
      "\n",
      "   auditRisk  boardRisk  compensationRisk  shareHolderRightsRisk  overallRisk  \\\n",
      "0        1.0        1.0               6.0                    1.0          1.0   \n",
      "1        NaN        NaN               NaN                    NaN          NaN   \n",
      "2        NaN        NaN               NaN                    NaN          NaN   \n",
      "3        3.0        4.0               1.0                    7.0          3.0   \n",
      "4        4.0        3.0               6.0                   10.0          9.0   \n",
      "5        3.0        7.0               4.0                    7.0          5.0   \n",
      "\n",
      "   governanceEpochDate  compensationAsOfEpochDate  ...  revenueGrowth  \\\n",
      "0         1.682813e+09               1.672445e+09  ...          0.096   \n",
      "1                  NaN                        NaN  ...         -0.208   \n",
      "2                  NaN               1.672445e+09  ...          2.836   \n",
      "3         1.680307e+09               1.672445e+09  ...          0.011   \n",
      "4         1.682813e+09               1.672445e+09  ...            NaN   \n",
      "5         1.682813e+09               1.672445e+09  ...          0.246   \n",
      "\n",
      "   grossMargins  ebitdaMargins  operatingMargins  financialCurrency  \\\n",
      "0       0.40658        0.13948           0.10381                EUR   \n",
      "1       0.73041        0.02230          -0.01292                EUR   \n",
      "2       0.49448        0.06661           0.05834                EUR   \n",
      "3       0.12887        0.13119           0.11385                USD   \n",
      "4       0.52730        0.14368           0.11466                EUR   \n",
      "5       0.21128        0.10358           0.07865                SEK   \n",
      "\n",
      "   trailingPegRatio  state  fiveYearAvgDividendYield  shortPercentOfFloat  \\\n",
      "0               NaN    NaN                       NaN                  NaN   \n",
      "1               NaN    NaN                       NaN                  NaN   \n",
      "2               NaN    NaN                       NaN                  NaN   \n",
      "3            3.6084     MD                       2.6               0.0089   \n",
      "4               NaN    NaN                       2.2                  NaN   \n",
      "5               NaN    NaN                       NaN                  NaN   \n",
      "\n",
      "    address2  \n",
      "0        NaN  \n",
      "1        NaN  \n",
      "2        NaN  \n",
      "3        NaN  \n",
      "4        NaN  \n",
      "5  5th floor  \n",
      "\n",
      "[6 rows x 120 columns]\n"
     ]
    }
   ],
   "source": [
    "import yfinance as yf\n",
    "import pandas as pd\n",
    "\n",
    "tickers = [\"NOK\", \"REMEDY.HE\", \"KEMPOWR.HE\", \"LMT\", \"RHM.DE\", \"SAAB-B.ST\"]\n",
    "\n",
    "# Create an empty DataFrame to store the information for all tickers\n",
    "df = pd.DataFrame()\n",
    "\n",
    "# Loop through each ticker and retrieve the information\n",
    "for symbol in tickers:\n",
    "    nok = yf.Ticker(ticker=symbol)\n",
    "    nok_info = nok.get_info()\n",
    "    \n",
    "    # Filter out unwanted values from the dictionary and append to the DataFrame\n",
    "    filtered_values = ['longBusinessSummary', 'companyOfficers', 'address1', 'city', 'country', 'zip', 'phone', 'fax', 'maxAge']\n",
    "    d = {k: [v] for k, v in nok_info.items() if k not in filtered_values}\n",
    "    df_temp = pd.DataFrame.from_dict(data=d, orient='columns')\n",
    "    df_temp['symbol'] = symbol  # Add a column for the ticker symbol\n",
    "    df = pd.concat([df, df_temp], ignore_index=True)\n",
    "\n",
    "# Save the DataFrame to a CSV file with a filename based on the tickers\n",
    "csv_file = '_'.join(tickers)\n",
    "df.to_csv(\"test.csv\", index=False)\n",
    "\n",
    "print(df)\n",
    "\n"
   ]
  },
  {
   "cell_type": "code",
   "execution_count": null,
   "metadata": {},
   "outputs": [],
   "source": []
  }
 ],
 "metadata": {
  "kernelspec": {
   "display_name": "finance",
   "language": "python",
   "name": "python3"
  },
  "language_info": {
   "codemirror_mode": {
    "name": "ipython",
    "version": 3
   },
   "file_extension": ".py",
   "mimetype": "text/x-python",
   "name": "python",
   "nbconvert_exporter": "python",
   "pygments_lexer": "ipython3",
   "version": "3.11.3"
  },
  "orig_nbformat": 4
 },
 "nbformat": 4,
 "nbformat_minor": 2
}
