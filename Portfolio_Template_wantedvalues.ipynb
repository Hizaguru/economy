{
 "cells": [
  {
   "cell_type": "code",
   "execution_count": 21,
   "metadata": {},
   "outputs": [],
   "source": [
    "import yfinance as yf\n",
    "import pandas as pd\n",
    "\n",
    "tickers = [\"NOK\", \"REMEDY.HE\", \"KEMPOWR.HE\", \"LMT\", \"RHM.DE\", \"SAAB-B.ST\", \"GOOG\", \"WITH.HE\"]\n",
    "fileName = tickers\n",
    "\n",
    "\n"
   ]
  },
  {
   "cell_type": "code",
   "execution_count": 22,
   "metadata": {},
   "outputs": [],
   "source": [
    "# Create an empty DataFrame to store the information for all tickers\n",
    "df = pd.DataFrame()\n",
    "\n"
   ]
  },
  {
   "cell_type": "code",
   "execution_count": 23,
   "metadata": {},
   "outputs": [],
   "source": [
    "# Loop through each ticker and retrieve the information\n",
    "for symbol in tickers:\n",
    "    stock = yf.Ticker(ticker=symbol)\n",
    "    stock_info = stock.get_info()\n",
    "    \n",
    "    # Filter out unwanted values from the dictionary and append to the DataFrame\n",
    "    wanted_values = ['website', 'longName', 'industry', 'sector', 'fullTimeEmployees', 'auditRisk', 'boardRisk', 'previousClose', 'open', 'dayLow', 'dayHigh', 'dividendRate', 'dividendYield', 'payoutRatio', 'trailingPE', 'forwardPE', 'marketCap', 'priceToSalesTrailing12Months', 'profitMargins', 'priceToBook', 'trailingEps', 'freeCashflow']\n",
    "    d = {}\n",
    "    for k, v in stock_info.items():\n",
    "        if k in wanted_values:\n",
    "            if k == 'marketCap':\n",
    "                v *= 0.000000001\n",
    "            elif k== 'freeCashflow':\n",
    "                v *= 0.000001\n",
    "            elif k in ['previousClose', 'marketCap', 'open', 'dayLow', 'dayHigh', 'dividendRate', 'freeCashflow'] and stock_info.get('currency') == 'SEK':\n",
    "                v /= 11.2\n",
    "            d[k] = [v]    \n",
    "    df_temp = pd.DataFrame.from_dict(data=d, orient='columns')\n",
    "    df_temp['symbol'] = symbol  # Add a column for the ticker symbol\n",
    "    df = pd.concat([df, df_temp], ignore_index=True)\n",
    "\n"
   ]
  },
  {
   "cell_type": "code",
   "execution_count": 24,
   "metadata": {},
   "outputs": [
    {
     "name": "stdout",
     "output_type": "stream",
     "text": [
      "                                             website  \\\n",
      "0                              https://www.nokia.com   \n",
      "1                        https://www.remedygames.com   \n",
      "2                               https://kempower.com   \n",
      "3                     https://www.lockheedmartin.com   \n",
      "4  https://www.rheinmetall.com/en/rheinmetall_ag/...   \n",
      "5                          https://www.saabgroup.com   \n",
      "6                                https://www.abc.xyz   \n",
      "7                         https://www.withsecure.com   \n",
      "\n",
      "                         industry                  sector  fullTimeEmployees  \\\n",
      "0         Communication Equipment              Technology              86896   \n",
      "1  Electronic Gaming & Multimedia  Communication Services                334   \n",
      "2    Electrical Equipment & Parts             Industrials                375   \n",
      "3             Aerospace & Defense             Industrials             116000   \n",
      "4             Aerospace & Defense             Industrials              21788   \n",
      "5             Aerospace & Defense             Industrials              19651   \n",
      "6  Internet Content & Information  Communication Services             190711   \n",
      "7         Software—Infrastructure              Technology               1245   \n",
      "\n",
      "   auditRisk  boardRisk  previousClose        open      dayLow  dayHigh  ...  \\\n",
      "0        1.0        3.0       4.020000    4.050000    4.040000    4.130  ...   \n",
      "1        NaN        NaN      25.150000   25.150000   24.700000   25.200  ...   \n",
      "2        NaN        NaN      33.800000   35.000000   34.000000   36.280  ...   \n",
      "3        4.0        6.0     451.930000  452.690000  452.080000  457.100  ...   \n",
      "4        2.0        2.0     266.400000  266.400000  266.000000  267.800  ...   \n",
      "5        3.0        8.0      53.089286   53.053571   52.446429   53.500  ...   \n",
      "6        6.0        2.0     105.210000  105.320000  104.740000  106.430  ...   \n",
      "7        2.0        5.0       1.478000    1.479000    1.477000    1.494  ...   \n",
      "\n",
      "   trailingPE    forwardPE    marketCap  priceToSalesTrailing12Months  \\\n",
      "0    4.892858     8.387755    23.113654                      0.909199   \n",
      "1         NaN -1252.500000     0.337426                      7.741259   \n",
      "2  586.666700    70.400000     1.950724                     18.821445   \n",
      "3   20.877178    16.286737   115.943588                      1.752843   \n",
      "4   30.294786    14.273505    11.591591                           NaN   \n",
      "5   29.738165    23.408640    78.353129                      1.769772   \n",
      "6   23.550995    17.131450  1344.214532                      4.722972   \n",
      "7         NaN   -74.500000     0.262051                      1.904840   \n",
      "\n",
      "   profitMargins  priceToBook  trailingEps                     longName  \\\n",
      "0        0.16981     1.075635         0.84                    Nokia Oyj   \n",
      "1       -0.03960     3.812785        -0.13     Remedy Entertainment Oyj   \n",
      "2        0.03428    19.393940         0.06                 Kempower Oyj   \n",
      "3        0.08599    11.995470        21.82  Lockheed Martin Corporation   \n",
      "4        0.00000     4.122185         8.82               Rheinmetall AG   \n",
      "5        0.05812     2.618221        19.86               Saab AB (publ)   \n",
      "6        0.20585     5.179450         4.51                Alphabet Inc.   \n",
      "7        3.07393     2.029973        -0.20               WithSecure Oyj   \n",
      "\n",
      "   freeCashflow      symbol  \n",
      "0    206.000000         NOK  \n",
      "1      0.510125   REMEDY.HE  \n",
      "2    -14.113637  KEMPOWR.HE  \n",
      "3   4343.625216         LMT  \n",
      "4           NaN      RHM.DE  \n",
      "5   4922.625024   SAAB-B.ST  \n",
      "6  55862.624256        GOOG  \n",
      "7     -6.796250     WITH.HE  \n",
      "\n",
      "[8 rows x 23 columns]\n"
     ]
    }
   ],
   "source": [
    "# Save the DataFrame to a CSV file with a filename based on the tickers\n",
    "csv_file = '_'.join(tickers)\n",
    "df.to_csv(f'{tickers}.csv', index=False)\n",
    "\n",
    "print(df)"
   ]
  },
  {
   "cell_type": "code",
   "execution_count": null,
   "metadata": {},
   "outputs": [],
   "source": []
  },
  {
   "cell_type": "code",
   "execution_count": null,
   "metadata": {},
   "outputs": [],
   "source": []
  }
 ],
 "metadata": {
  "kernelspec": {
   "display_name": "finance",
   "language": "python",
   "name": "python3"
  },
  "language_info": {
   "codemirror_mode": {
    "name": "ipython",
    "version": 3
   },
   "file_extension": ".py",
   "mimetype": "text/x-python",
   "name": "python",
   "nbconvert_exporter": "python",
   "pygments_lexer": "ipython3",
   "version": "3.11.3"
  },
  "orig_nbformat": 4
 },
 "nbformat": 4,
 "nbformat_minor": 2
}
