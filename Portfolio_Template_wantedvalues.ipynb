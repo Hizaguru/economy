{
 "cells": [
  {
   "cell_type": "code",
   "execution_count": 89,
   "metadata": {},
   "outputs": [],
   "source": [
    "import yfinance as yf\n",
    "import pandas as pd\n",
    "from currency_converter import CurrencyConverter\n"
   ]
  },
  {
   "cell_type": "code",
   "execution_count": 90,
   "metadata": {},
   "outputs": [],
   "source": [
    "tickers = [\"NOK\", \"REMEDY.HE\", \"KEMPOWR.HE\", \"LMT\", \"RHM.DE\", \"SAAB-B.ST\", \"GOOG\", \"WITH.HE\"] #Add the tickers of your portfolio\n",
    "fileName = tickers\n",
    "c = CurrencyConverter()\n",
    "ROUND_TO_MILLIONS = 0.000001\n"
   ]
  },
  {
   "cell_type": "code",
   "execution_count": 91,
   "metadata": {},
   "outputs": [],
   "source": [
    "# Create an empty DataFrame to store the information for all tickers\n",
    "df = pd.DataFrame()\n"
   ]
  },
  {
   "cell_type": "code",
   "execution_count": 92,
   "metadata": {},
   "outputs": [],
   "source": [
    "# Loop through each ticker and retrieve the information\n",
    "for symbol in tickers:\n",
    "    stock = yf.Ticker(ticker=symbol)\n",
    "    stock_info = stock.get_info()\n",
    "    \n",
    "    # Filter out unwanted values from the dictionary and append to the DataFrame\n",
    "    wanted_values = ['website', 'longName', 'industry', 'sector', 'fullTimeEmployees', 'auditRisk', 'boardRisk', 'previousClose', 'open', 'dayLow', 'dayHigh', 'dividendRate', 'dividendYield', 'payoutRatio', 'trailingPE', 'forwardPE', 'marketCap', 'priceToSalesTrailing12Months', 'profitMargins', 'priceToBook', 'trailingEps', 'freeCashflow']\n",
    "    d = {}\n",
    "    for k, v in stock_info.items():\n",
    "        if k in wanted_values:\n",
    "            if k == 'marketCap':\n",
    "                v *= ROUND_TO_MILLIONS\n",
    "            elif k == 'freeCashflow':\n",
    "                v *= ROUND_TO_MILLIONS\n",
    "            elif k in ['previousClose', 'marketCap', 'open', 'dayLow', 'dayHigh', 'dividendRate', 'freeCashflow'] and stock_info.get('currency') == 'SEK':\n",
    "                v = round(c.convert(v, 'SEK', 'EUR'),1) #Convert SEK to EUR in one decimal\n",
    "            d[k] = [v]    \n",
    "    df_temp = pd.DataFrame.from_dict(data=d, orient='columns')\n",
    "    df_temp['symbol'] = symbol  # Add a column for the ticker symbol\n",
    "    df = pd.concat([df, df_temp], ignore_index=True)"
   ]
  },
  {
   "cell_type": "code",
   "execution_count": 93,
   "metadata": {},
   "outputs": [
    {
     "name": "stdout",
     "output_type": "stream",
     "text": [
      "                                             website  \\\n",
      "0                              https://www.nokia.com   \n",
      "1                        https://www.remedygames.com   \n",
      "2                               https://kempower.com   \n",
      "3                     https://www.lockheedmartin.com   \n",
      "4  https://www.rheinmetall.com/en/rheinmetall_ag/...   \n",
      "5                          https://www.saabgroup.com   \n",
      "6                                https://www.abc.xyz   \n",
      "7                         https://www.withsecure.com   \n",
      "\n",
      "                         industry                  sector  fullTimeEmployees  \\\n",
      "0         Communication Equipment              Technology              86896   \n",
      "1  Electronic Gaming & Multimedia  Communication Services                334   \n",
      "2    Electrical Equipment & Parts             Industrials                375   \n",
      "3             Aerospace & Defense             Industrials             116000   \n",
      "4             Aerospace & Defense             Industrials              21788   \n",
      "5             Aerospace & Defense             Industrials              19651   \n",
      "6  Internet Content & Information  Communication Services             190711   \n",
      "7         Software—Infrastructure              Technology               1245   \n",
      "\n",
      "   auditRisk  boardRisk  previousClose     open   dayLow   dayHigh  ...  \\\n",
      "0        1.0        3.0          4.110    4.130    4.100    4.1375  ...   \n",
      "1        NaN        NaN         25.150   25.150   24.700   25.7500  ...   \n",
      "2        NaN        NaN         33.800   35.000   34.000   36.2800  ...   \n",
      "3        4.0        6.0        455.540  456.490  452.560  458.3000  ...   \n",
      "4        2.0        2.0        266.400  266.400  265.000  267.8000  ...   \n",
      "5        3.0        8.0         52.500   52.500   51.900   53.0000  ...   \n",
      "6        6.0        2.0        106.215  105.795  105.790  108.2200  ...   \n",
      "7        2.0        5.0          1.478    1.479    1.477    1.4960  ...   \n",
      "\n",
      "   trailingPE    forwardPE     marketCap  priceToSalesTrailing12Months  \\\n",
      "0    4.898809     8.397959  2.314177e+04                      0.910305   \n",
      "1         NaN -1275.000000  3.434876e+02                      7.880324   \n",
      "2  583.333400    70.000000  1.939640e+03                     18.714504   \n",
      "3   20.764208    18.101278  1.153162e+05                      1.743359   \n",
      "4   30.045353    14.270328  1.149615e+04                           NaN   \n",
      "5   29.657602    23.345224  7.814087e+04                      1.764978   \n",
      "6   23.991129    19.566002  1.369336e+06                      4.811237   \n",
      "7         NaN   -74.400000  2.616990e+02                      1.902283   \n",
      "\n",
      "   profitMargins  priceToBook  trailingEps                     longName  \\\n",
      "0        0.16981     1.076943         0.84                    Nokia Oyj   \n",
      "1       -0.03960     3.881279        -0.13     Remedy Entertainment Oyj   \n",
      "2        0.03428    19.283747         0.06                 Kempower Oyj   \n",
      "3        0.08599    11.930561        21.82  Lockheed Martin Corporation   \n",
      "4        0.00000     4.088244         8.82               Rheinmetall AG   \n",
      "5        0.05812     2.611128        19.86               Saab AB (publ)   \n",
      "6        0.20585     5.276247         4.51                Alphabet Inc.   \n",
      "7        3.07393     2.027248        -0.20               WithSecure Oyj   \n",
      "\n",
      "   freeCashflow      symbol  \n",
      "0    206.000000         NOK  \n",
      "1      0.510125   REMEDY.HE  \n",
      "2    -14.113637  KEMPOWR.HE  \n",
      "3   4343.625216         LMT  \n",
      "4           NaN      RHM.DE  \n",
      "5   4922.625024   SAAB-B.ST  \n",
      "6  55862.624256        GOOG  \n",
      "7     -6.796250     WITH.HE  \n",
      "\n",
      "[8 rows x 23 columns]\n"
     ]
    }
   ],
   "source": [
    "# Save the DataFrame to a CSV file with a filename based on the tickers\n",
    "csv_file = '_'.join(tickers)\n",
    "df.to_csv(f'{tickers}.csv', index=False)\n",
    "\n",
    "print(df)"
   ]
  },
  {
   "cell_type": "code",
   "execution_count": null,
   "metadata": {},
   "outputs": [],
   "source": []
  },
  {
   "cell_type": "code",
   "execution_count": null,
   "metadata": {},
   "outputs": [],
   "source": []
  },
  {
   "cell_type": "code",
   "execution_count": null,
   "metadata": {},
   "outputs": [],
   "source": []
  }
 ],
 "metadata": {
  "kernelspec": {
   "display_name": "finance",
   "language": "python",
   "name": "python3"
  },
  "language_info": {
   "codemirror_mode": {
    "name": "ipython",
    "version": 3
   },
   "file_extension": ".py",
   "mimetype": "text/x-python",
   "name": "python",
   "nbconvert_exporter": "python",
   "pygments_lexer": "ipython3",
   "version": "3.11.3"
  },
  "orig_nbformat": 4
 },
 "nbformat": 4,
 "nbformat_minor": 2
}
